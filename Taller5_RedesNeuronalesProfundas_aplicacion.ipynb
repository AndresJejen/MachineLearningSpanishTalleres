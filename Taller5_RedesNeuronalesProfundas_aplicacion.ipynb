{
 "cells": [
  {
   "cell_type": "markdown",
   "metadata": {
    "colab_type": "text",
    "id": "EoMRmCh3H7a_"
   },
   "source": [
    "# Redes neuronales profundas para clasificación de imagenes: aplicación \n",
    "\n",
    "En este taller va a utilizar las funciones que implementó en el taller anterior: \"Taller4_RedesNeuronalesProfundas\", y va a construir una red neuronal profunda, aplicandola a la clasificación de imagenes. \n",
    "\n",
    "El modelo se va a aplicar sobre las imagenes de ´gato, no-gato', y esperamos ver una mejoría en la precisión relativa (accuracy) con respecto a la regresión logística implementada anteriormente.  \n",
    "\n",
    "**Tras este taller va a ser capaz de:**\n",
    "- Construir y aplicar una red neuronal profunda para el aprendizaje supervisado. \n"
   ]
  },
  {
   "cell_type": "code",
   "execution_count": null,
   "metadata": {
    "colab": {},
    "colab_type": "code",
    "id": "ObG47jqdIQ8P"
   },
   "outputs": [],
   "source": []
  },
  {
   "cell_type": "markdown",
   "metadata": {
    "colab_type": "text",
    "id": "fCXdw26RH7bB"
   },
   "source": [
    "## 1 - Paquetes"
   ]
  },
  {
   "cell_type": "markdown",
   "metadata": {
    "colab_type": "text",
    "id": "qEzbNOiiH7bE"
   },
   "source": [
    "Primero se deben importar todos los paquetes que se van a necesitar durante este taller.\n",
    "- [numpy](www.numpy.org) paquete básico para ciencias computacionales con Python.\n",
    "- [matplotlib](http://matplotlib.org) librería para graficar en Python.\n",
    "- [h5py](http://www.h5py.org) paquete para interactuar con datos guardados como archivo H5.\n",
    "- [PIL](http://www.pythonware.com/products/pil/) y [scipy](https://www.scipy.org/) usados para probar el modelo con imagenes propias al final del taller.\n",
    "- dnn_app_utils provee las funciones implementadas en el taller anterior."
   ]
  },
  {
   "cell_type": "code",
   "execution_count": 9,
   "metadata": {
    "colab": {},
    "colab_type": "code",
    "id": "SwLXmOAcH7bF"
   },
   "outputs": [
    {
     "name": "stdout",
     "output_type": "stream",
     "text": [
      "The autoreload extension is already loaded. To reload it, use:\n",
      "  %reload_ext autoreload\n"
     ]
    }
   ],
   "source": [
    "import time\n",
    "import numpy as np\n",
    "import h5py\n",
    "import matplotlib.pyplot as plt\n",
    "import scipy\n",
    "from PIL import Image\n",
    "from scipy import ndimage\n",
    "from dnn_app_utils_v3 import *\n",
    "\n",
    "%matplotlib inline\n",
    "plt.rcParams['figure.figsize'] = (5.0, 4.0) # tamaño de las graficas por defecto\n",
    "plt.rcParams['image.interpolation'] = 'nearest'\n",
    "plt.rcParams['image.cmap'] = 'gray'\n",
    "\n",
    "%load_ext autoreload\n",
    "%autoreload 2\n",
    "\n",
    "np.random.seed(1) # se utiliza para replicar las funciones aleatorias "
   ]
  },
  {
   "cell_type": "markdown",
   "metadata": {
    "colab_type": "text",
    "id": "ggaNJm8CH7bP"
   },
   "source": [
    "## 2 - Conjunto de datos\n",
    "\n",
    "Vamos a usar el mismo conjunto de datos del Taller 2 \"RegresiónLogística\". El modelo que construyó tenía un 70% de precisión de prueba (test) al clasificar imagenes de gatos y todo aquello que no era gato (no-gato). Ahora vamos a implementar un modelo de redes profundas, y esperamos que su desempeño sea mejor!\n",
    "\n",
    "**Problema**: Dado el conjunto de datos (\"data.h5\") con:\n",
    "    - un conjunto de datos de entrenamiento (CE) con imagenes etiquetadas como gato (1) y no-gato(0)\n",
    "    - un conjunto de prueba (test) con imagenes etiquetadas como gato y no-gato\n",
    "    - cada imagen es de tamaño (num_px, num_px, 3) donde 3 es para los canales (RGB).\n",
    "\n",
    "A continuación exploramos el conjunto de datos. Cargue los datos ejecutando la celda abajo."
   ]
  },
  {
   "cell_type": "code",
   "execution_count": 10,
   "metadata": {
    "colab": {},
    "colab_type": "code",
    "id": "1QGEh-XGH7bQ"
   },
   "outputs": [],
   "source": [
    "train_x_orig, train_y, test_x_orig, test_y, classes = load_data()\n",
    "clases=[\"no-gato\", \"gato\"]"
   ]
  },
  {
   "cell_type": "markdown",
   "metadata": {
    "colab_type": "text",
    "id": "OSAJSBywH7bU"
   },
   "source": [
    "El siguiente código muestra una imagen del conjunto de datos. Puede cambiar el índice y volver a ejecutar para cambiar de imagen.  "
   ]
  },
  {
   "cell_type": "code",
   "execution_count": 11,
   "metadata": {
    "colab": {},
    "colab_type": "code",
    "id": "2CRKEvBAH7bV",
    "scrolled": true
   },
   "outputs": [
    {
     "name": "stdout",
     "output_type": "stream",
     "text": [
      "La imagen #200, es un 'gato'\n"
     ]
    },
    {
     "data": {
      "image/png": "[encoded data removed]",
      "text/plain": [
       "<Figure size 360x288 with 1 Axes>"
      ]
     },
     "metadata": {
      "needs_background": "light"
     },
     "output_type": "display_data"
    }
   ],
   "source": [
    "# Ejemplo de una imagen\n",
    "indice = 200\n",
    "plt.imshow(train_x_orig[indice])\n",
    "print (\"La imagen #\" + str(indice) + \", es un '\" + str(clases[np.squeeze(train_y[:, indice])]) + \"'\" )"
   ]
  },
  {
   "cell_type": "code",
   "execution_count": 12,
   "metadata": {
    "colab": {},
    "colab_type": "code",
    "id": "V3-8Aq-CH7bZ"
   },
   "outputs": [
    {
     "name": "stdout",
     "output_type": "stream",
     "text": [
      "Número de ejemplos de entrenamiento: m_train = 209\n",
      "Número de ejemplos de prueba: m_test = 50\n",
      "Cada imagen es de tamaño: (64, 64, 3)\n",
      "Dimensión del train_x_orig: (209, 64, 64, 3)\n",
      "Dimensión del train_y: (1, 209)\n",
      "Dimensión del test_x_orig: (50, 64, 64, 3)\n",
      "Dimensión del test_y: (1, 50)\n"
     ]
    }
   ],
   "source": [
    "# Explore los datos\n",
    "m_train = train_x_orig.shape[0]\n",
    "m_test = test_x_orig.shape[0]\n",
    "num_px = train_x_orig.shape[1]\n",
    "\n",
    "print (\"Número de ejemplos de entrenamiento: m_train = \" + str(m_train))\n",
    "print (\"Número de ejemplos de prueba: m_test = \" + str(m_test))\n",
    "print (\"Cada imagen es de tamaño: (\" + str(num_px) + \", \" + str(num_px) + \", 3)\")\n",
    "\n",
    "print (\"Dimensión del train_x_orig: \" + str(train_x_orig.shape))\n",
    "print (\"Dimensión del train_y: \" + str(train_y.shape))\n",
    "print (\"Dimensión del test_x_orig: \" + str(test_x_orig.shape))\n",
    "print (\"Dimensión del test_y: \" + str(test_y.shape))"
   ]
  },
  {
   "cell_type": "markdown",
   "metadata": {
    "colab_type": "text",
    "id": "3qz2OVsTH7bf"
   },
   "source": [
    "**Salida esperada para m_train, m_test y tamaño de la imagen**: \n",
    "<table style=\"width:25%\">\n",
    "  <tr>\n",
    "    <td>**m_train**</td>\n",
    "    <td> 209 </td> \n",
    "  </tr>\n",
    "  \n",
    "  <tr>\n",
    "    <td>**m_test**</td>\n",
    "    <td> 50 </td> \n",
    "  </tr>\n",
    "  \n",
    "  <tr>\n",
    "    <td>**num_px**</td>\n",
    "    <td> (64, 64, 3) </td> \n",
    "  </tr>\n",
    "  \n",
    "</table>\n"
   ]
  },
  {
   "cell_type": "markdown",
   "metadata": {
    "colab_type": "text",
    "id": "m3b4zeeoH7bh"
   },
   "source": [
    "Como de costumbre, cambiamos las dimensiones (reshape) y estandarizamos las imagenes antes de alimentarlas a la red. "
   ]
  },
  {
   "cell_type": "code",
   "execution_count": 13,
   "metadata": {
    "colab": {},
    "colab_type": "code",
    "id": "kLm_J1O0H7bi"
   },
   "outputs": [
    {
     "name": "stdout",
     "output_type": "stream",
     "text": [
      "Dimensiones de train_x: (12288, 209)\n",
      "Dimensiones de test_x: (12288, 50)\n"
     ]
    }
   ],
   "source": [
    "# Cambiamos la dimensión de los ejemplos de entrenamiento y prueba\n",
    "train_x_flatten = train_x_orig.reshape(train_x_orig.shape[0], -1).T   # El \"-1\" hace que la función reshape() aplane (flatten) las restantes dimensiones\n",
    "test_x_flatten = test_x_orig.reshape(test_x_orig.shape[0], -1).T\n",
    "\n",
    "# Normalizamos los datos para tener valores entre 0 y 1.\n",
    "train_x = train_x_flatten/255.\n",
    "test_x = test_x_flatten/255.\n",
    "\n",
    "print (\"Dimensiones de train_x: \" + str(train_x.shape))\n",
    "print (\"Dimensiones de test_x: \" + str(test_x.shape))\n"
   ]
  },
  {
   "cell_type": "markdown",
   "metadata": {
    "colab_type": "text",
    "id": "SQ9aM0SSH7bm"
   },
   "source": [
    "$12,288$ equivale a $64 \\times 64 \\times 3$, el cual es el tamaño de un vector de imagen transformado."
   ]
  },
  {
   "cell_type": "markdown",
   "metadata": {
    "colab_type": "text",
    "id": "wzRaiIJdH7bn"
   },
   "source": [
    "## 3 - Arquitectura del modelo"
   ]
  },
  {
   "cell_type": "markdown",
   "metadata": {
    "colab_type": "text",
    "id": "_WGW7Ha8H7bo"
   },
   "source": [
    "Ahora es el momento de construir una red neuronal profunda para la clasificación de imagenes.\n",
    "\n",
    "Va a construir dos modelos distintos:\n",
    "- Una red neuronal de dos capas\n",
    "- Una red neuronal profunda de L capas\n",
    "\n",
    "Luego va a comparar el desempeño de los modelos, y va a intentar con distintos valores para $L$. \n",
    "\n",
    "Veamos las dos arquitecturas.\n",
    "\n",
    "### 3.1 - Red neuronal de 2 capas\n",
    "\n",
    "- El input es una imagen de dimensiones (64,64,3) que es aplanada a un vector de tamaño $(12288,1)$. \n",
    "- El vector correspondiente: $[x_0,x_1,...,x_{12287}]^T$ es multiplicado por una matriz de pesos $W^{[1]}$ de tamaño $(n^{[1]}, 12288)$.\n",
    "- Le añade el intercepto o término de sesgo, y le aplica ReLU para conseguir el vector: $[a_0^{[1]}, a_1^{[1]},..., a_{n^{[1]}-1}^{[1]}]^T$.\n",
    "- Repite el mismo proceso.\n",
    "- Multiplica el vector resultante por $W^{[2]}$ y le añade el sesgo. \n",
    "- Finalmente, toma el sigmoide del resultado. Si es mayor que 0.5, clasifica como de clase 1.\n",
    "\n",
    "### 3.2 - Red neuronal profunda de L capas\n",
    "\n",
    "- El input es una imagen de dimensiones (64,64,3) que es aplanada a un vector de tamaño $(12288,1)$. \n",
    "- El vector correspondiente: $[x_0,x_1,...,x_{12287}]^T$ es multiplicado por una matriz de pesos $W^{[1]}$, y le añade el sesgo $b^{[1]}$. Al resultado se le llama \"unidad lineal\".\n",
    "- Luego, toma la ReLU para esta unidad. Este proceso se repite tantas veces como sea necesario para cada $(W^{[l]}, b^{[l]})$, dependiendo de la arquitectura del modelo.\n",
    "- Finalmente, toma el sigmoide de la última unidad lineal. Si es mayor que 0.5, clasifica como de clase 1.\n",
    "\n",
    "### 3.3 - Metodología general\n",
    "\n",
    "Como es usual, seguirá una metodología de aprendizaje profundo para consturir el modelo:\n",
    "    1. Inicialización de parámetros y definición de hiper-parámetros\n",
    "    2. Bucle para el total de iteraciones (num_iterations):\n",
    "        a. Propagación hacia delante\n",
    "        b. Cálculo de la función de coste\n",
    "        c. Retro-propagación\n",
    "        d. Actualización de parámetros \n",
    "    4. En base a los parámetros aprendidos, predecir las etiquetas de clases\n"
   ]
  },
  {
   "cell_type": "markdown",
   "metadata": {
    "colab_type": "text",
    "id": "RaUaDiy0H7bp"
   },
   "source": [
    "## 4 - Red neuronal de 2 capas\n",
    "\n",
    "**Ejercicio**:  Utilice las funciones auxiliares que ha implementado en el taller anterior para construir una red de dos capas con la siguiente estructura: *LINEAL -> RELU -> LINEAL -> SIGMOIDE*. Las funciones que va a necesitar y sus entradas son:\n",
    "```python\n",
    "def initialize_parameters(n_x, n_h, n_y):\n",
    "    ...\n",
    "    return parameters \n",
    "def linear_activation_forward(A_prev, W, b, activation):\n",
    "    ...\n",
    "    return A, cache\n",
    "def compute_cost(AL, Y):\n",
    "    ...\n",
    "    return cost\n",
    "def linear_activation_backward(dA, cache, activation):\n",
    "    ...\n",
    "    return dA_prev, dW, db\n",
    "def update_parameters(parameters, grads, learning_rate):\n",
    "    ...\n",
    "    return parameters\n",
    "```"
   ]
  },
  {
   "cell_type": "code",
   "execution_count": null,
   "metadata": {
    "colab": {},
    "colab_type": "code",
    "id": "yWMAKwFeH7bs"
   },
   "outputs": [],
   "source": [
    "### DEFINICIÓN DE CONSTANTES (HIPER-PARÁMETROS) DEL MODELO ####\n",
    "n_x = 12288     # num_px * num_px * 3\n",
    "n_h = 7\n",
    "n_y = 1\n",
    "layers_dims = (n_x, n_h, n_y)"
   ]
  },
  {
   "cell_type": "code",
   "execution_count": null,
   "metadata": {
    "colab": {},
    "colab_type": "code",
    "id": "9lHidy9hH7cB"
   },
   "outputs": [],
   "source": [
    "# FUNCIÓN A CALIFICAR: two_layer_model\n",
    "\n",
    "def two_layer_model(X, Y, layers_dims, learning_rate = 0.0075, num_iterations = 3000, print_cost=False):\n",
    "    \"\"\"\n",
    "    Implemente una red neuronal de dos capas: LINEAL->RELU->LINEAL->SIGMOIDE\n",
    "    Input:\n",
    "    X: datos de entrada de tamaño (n_x, número de ejemplos)\n",
    "    Y: vector de etiquetas observadas de tamaño (1, número de ejemplos)\n",
    "    layers_dims: dimensiones de las capas (n_x, n_h, n_y)\n",
    "    num_iterations: número de iteraciones del bucle de optimización\n",
    "    learning_rate: tasa de aprendizaje de la regla de actualización por G.D. \n",
    "    print_cost: si es verdadero \"True\", muestra el coste cada 100 iteraciones \n",
    "    Output:\n",
    "    parameters: diccionario con W1, W2, b1, y b2\n",
    "    \"\"\"\n",
    "    \n",
    "    np.random.seed(1)\n",
    "    grads = {}\n",
    "    costs = []                              \n",
    "    m = X.shape[1]                           \n",
    "    (n_x, n_h, n_y) = layers_dims\n",
    "    \n",
    "    # Inicialice el diccionario de parametros, llamando una de las funciones que ya implementó\n",
    "    ### EMPIEZE EL CÓDIGO AQUÍ ###  (≈ 1 línea de código)\n",
    "    parameters = \n",
    "    ### TERMINE EL CÓDIGO AQUÍ ###\n",
    "    \n",
    "    # Obtenga W1, b1, W2 y b2 del diccionario de parámetros.\n",
    "    W1 = parameters[\"W1\"]\n",
    "    b1 = parameters[\"b1\"]\n",
    "    W2 = parameters[\"W2\"]\n",
    "    b2 = parameters[\"b2\"]\n",
    "    \n",
    "    # Bucle (G.D.)\n",
    "    for i in range(0, num_iterations):\n",
    "\n",
    "        # Propagación hacia delante: LINEAL -> RELU -> LINEAL -> SIGMOIDE. Inputs: \"X, W1, b1, W2, b2\". Outputs: \"A1, cache1, A2, cache2\".\n",
    "        ### EMPIEZE EL CÓDIGO AQUÍ ###  (≈ 2 líneas de código)\n",
    "        A1, cache1 = \n",
    "        A2, cache2 = \n",
    "        ### TERMINE EL CÓDIGO AQUÍ ###\n",
    "        \n",
    "        # Calcule el coste\n",
    "        ### EMPIEZE EL CÓDIGO AQUÍ ###  (≈ 1 línea de código)\n",
    "        cost = \n",
    "        ### TERMINE EL CÓDIGO AQUÍ ###\n",
    "        \n",
    "        # Inicialice la retro-propagación\n",
    "        dA2 = - (np.divide(Y, A2) - np.divide(1 - Y, 1 - A2))\n",
    "        \n",
    "        # Retro-propagación. Inputs: \"dA2, cache2, cache1\". Outputs: \"dA1, dW2, db2; , dW1, db1; dA0 no es utilizado\".\n",
    "        ### EMPIEZE EL CÓDIGO AQUÍ ###  (≈ 2 líneas de código)\n",
    "        dA1, dW2, db2 = \n",
    "        dA0, dW1, db1 = \n",
    "        ### TERMINE EL CÓDIGO AQUÍ ###\n",
    "        \n",
    "        # Iguale grads['dWl'] a dW1, grads['db1'] a db1, grads['dW2'] a dW2, grads['db2'] a db2\n",
    "        grads['dW1'] = dW1\n",
    "        grads['db1'] = db1\n",
    "        grads['dW2'] = dW2\n",
    "        grads['db2'] = db2\n",
    "        \n",
    "        # Actualice los parámetros.\n",
    "        ### EMPIEZE EL CÓDIGO AQUÍ ###  (1 línea de código)\n",
    "        parameters = \n",
    "        ### TERMINE EL CÓDIGO AQUÍ ###\n",
    "\n",
    "        # Recupere W1, b1, W2, b2 de parameters\n",
    "        W1 = parameters[\"W1\"]\n",
    "        b1 = parameters[\"b1\"]\n",
    "        W2 = parameters[\"W2\"]\n",
    "        b2 = parameters[\"b2\"]\n",
    "        \n",
    "        # Imprima el coste cada 100 iteraciones\n",
    "        if print_cost and i % 100 == 0:\n",
    "            print(\"Coste tras la iteración {}: {}\".format(i, np.squeeze(cost)))\n",
    "        if print_cost and i % 100 == 0:\n",
    "            costs.append(cost)\n",
    "       \n",
    "    # grafique el coste\n",
    "\n",
    "    plt.plot(np.squeeze(costs))\n",
    "    plt.ylabel('cost')\n",
    "    plt.xlabel('iteraciones')\n",
    "    plt.title(\"Tasa de aprendizaje =\" + str(learning_rate))\n",
    "    plt.show()\n",
    "    \n",
    "    return parameters"
   ]
  },
  {
   "cell_type": "markdown",
   "metadata": {
    "colab_type": "text",
    "id": "l7gD1ymPH7cG"
   },
   "source": [
    "Ejecute la siguente celda para aprender los parámetros. Asegúrese que su modelo corre bien: el coste debería decrecer. Puede tomar algunos minutos el ejecutar 2500 iteraciones. Revise que el \"Coste tras la iteración 0\" coincida con la salida esperada abajo, si no, haga click en el cuadrado de STOP (⬛) arriba en la barra del cuaderno para detener el proceso e intente encontrar su error."
   ]
  },
  {
   "cell_type": "code",
   "execution_count": null,
   "metadata": {
    "colab": {},
    "colab_type": "code",
    "id": "bgL_wczAH7cH"
   },
   "outputs": [],
   "source": [
    "parameters = two_layer_model(train_x, train_y, layers_dims = (n_x, n_h, n_y), num_iterations = 2500, print_cost=True)"
   ]
  },
  {
   "cell_type": "markdown",
   "metadata": {
    "colab_type": "text",
    "id": "huX7SrNeH7cM"
   },
   "source": [
    "**Salida esperada**\n",
    "<table> \n",
    "    <tr>\n",
    "        <td> **Coste tras la iteración 0**</td>\n",
    "        <td> 0.6930497356599888 </td>\n",
    "    </tr>\n",
    "    <tr>\n",
    "        <td> **Coste tras la iteración 100**</td>\n",
    "        <td> 0.6464320953428849 </td>\n",
    "    </tr>\n",
    "    <tr>\n",
    "        <td> **...**</td>\n",
    "        <td> ... </td>\n",
    "    </tr>\n",
    "    <tr>\n",
    "        <td> **Coste tras la iteración 2400**</td>\n",
    "        <td> 0.048554785628770206 </td>\n",
    "    </tr>\n",
    "</table>"
   ]
  },
  {
   "cell_type": "markdown",
   "metadata": {
    "colab_type": "text",
    "id": "jRYLCWlIH7cO"
   },
   "source": [
    "Nótese que gracias a la implementación vectorizada, el código no tarda demasiado en ejecutarse (de otro modo, podría haber llevado hasta 10 veces más tiempo).\n",
    "\n",
    "Ahora puede usar los parametros entrenados para clasificar las imagenes del conjunto de datos. Para ver las predicciones de entrenamiento y prueba (test), ejecute la celda abajo."
   ]
  },
  {
   "cell_type": "code",
   "execution_count": null,
   "metadata": {
    "colab": {},
    "colab_type": "code",
    "id": "_OMTrwv7H7cP"
   },
   "outputs": [],
   "source": [
    "predictions_train = predict(train_x, train_y, parameters)"
   ]
  },
  {
   "cell_type": "markdown",
   "metadata": {
    "colab_type": "text",
    "id": "GD9HB9ZWH7cU"
   },
   "source": [
    "**Salida esperada**\n",
    "<table> \n",
    "    <tr>\n",
    "        <td> **Precisión**</td>\n",
    "        <td> 1.0 </td>\n",
    "    </tr>\n",
    "</table>"
   ]
  },
  {
   "cell_type": "code",
   "execution_count": null,
   "metadata": {
    "colab": {},
    "colab_type": "code",
    "id": "evCE7RnKH7cV",
    "scrolled": true
   },
   "outputs": [],
   "source": [
    "predictions_test = predict(test_x, test_y, parameters)"
   ]
  },
  {
   "cell_type": "markdown",
   "metadata": {
    "colab_type": "text",
    "id": "l40SxyXCH7cb"
   },
   "source": [
    "**Salida esperada**\n",
    "\n",
    "<table> \n",
    "    <tr>\n",
    "        <td> **Precisión**</td>\n",
    "        <td> 0.72 </td>\n",
    "    </tr>\n",
    "</table>"
   ]
  },
  {
   "cell_type": "markdown",
   "metadata": {
    "colab_type": "text",
    "id": "mwOxCf77H7cc"
   },
   "source": [
    "**Nota**: Puede ver que si se ejecuta el modelo con menos iteraciones (e.g. 1500) se obtendría una mayor precisión de prueba. Esto se conoce como \"early stopping\" y es un criterio de parada, útil para prevenir el sobreajuste, que veremos más adelante. \n",
    "\n",
    "Muy bien! Parece que su modelo de red neuronal con 2 capas tiene un mejor desempeño (72%) que el de la regresión logística del Taller 2 (70%). Ahora vamos a ver si podemos mejorar los resultados con un modelo de $L$ capas."
   ]
  },
  {
   "cell_type": "markdown",
   "metadata": {
    "colab_type": "text",
    "id": "lffV--6_H7ce"
   },
   "source": [
    "## 5 - Red neuronal de L capas\n",
    "\n",
    "**Ejercicio**:  Utilice las funciones auxiliares que ha implementado en el anterior taller para construir una red de L capas con la siguiente estructura: *[LINEAL -> RELU]$\\times$(L-1) -> LINEAL -> SIGMOIDE*. Las funciones que va a necesitar y sus entradas son:\n",
    "\n",
    "```python\n",
    "def initialize_parameters_deep(layers_dims):\n",
    "    ...\n",
    "    return parameters \n",
    "def L_model_forward(X, parameters):\n",
    "    ...\n",
    "    return AL, caches\n",
    "def compute_cost(AL, Y):\n",
    "    ...\n",
    "    return cost\n",
    "def L_model_backward(AL, Y, caches):\n",
    "    ...\n",
    "    return grads\n",
    "def update_parameters(parameters, grads, learning_rate):\n",
    "    ...\n",
    "    return parameters\n",
    "```\n"
   ]
  },
  {
   "cell_type": "code",
   "execution_count": null,
   "metadata": {
    "colab": {},
    "colab_type": "code",
    "id": "AU4OMoNhH7cj"
   },
   "outputs": [],
   "source": [
    "### CONSTANTES ###\n",
    "layers_dims = [12288, 20, 7, 5, 1] #  Modelo de 4 capas"
   ]
  },
  {
   "cell_type": "code",
   "execution_count": null,
   "metadata": {
    "colab": {},
    "colab_type": "code",
    "id": "-ooDOn_8H7cq"
   },
   "outputs": [],
   "source": [
    "# FUNCIÓN A CALIFICAR: L_layer_model\n",
    "\n",
    "def L_layer_model(X, Y, layers_dims, learning_rate = 0.0075, num_iterations = 3000, print_cost=False):#lr was 0.009\n",
    "    \"\"\"\n",
    "    Implemente una red neuronal de L capas: [LINEAL->RELU]*(L-1)->LINEAL->SIGMOIDE\n",
    "    Input:\n",
    "    X: datos de entrada de tamaño (n_x, número de ejemplos)\n",
    "    Y: vector de etiquetas observadas de tamaño (1, número de ejemplos)\n",
    "    layers_dims: dimensiones de las capas (n_x, n_h, n_y)\n",
    "    num_iterations: número de iteraciones del bucle de optimización\n",
    "    learning_rate: tasa de aprendizaje de la regla de actualización por G.D. \n",
    "    print_cost: si es verdadero \"True\", muestra el coste cada 100 iteraciones \n",
    "    Output:\n",
    "    parameters: diccionario con W1, W2, b1, y b2\n",
    "    \"\"\"\n",
    "\n",
    "    np.random.seed(1)\n",
    "    costs = []                         \n",
    "    \n",
    "    # Inicialización de parámetros. (≈ 1 linea de código)\n",
    "    ### EMPIEZE EL CÓDIGO AQUÍ ### \n",
    "    parameters = \n",
    "    ### TERMINE EL CÓDIGO AQUÍ ###\n",
    "    \n",
    "    # Bucle (G.D.)\n",
    "    for i in range(0, num_iterations):\n",
    "\n",
    "        # Propagación hacia delante: [LINEAL -> RELU]*(L-1) -> LINEAL -> SIGMOIDE.\n",
    "        ### EMPIEZE EL CÓDIGO AQUÍ ###  (≈ 1 línea de código)\n",
    "        AL, caches = \n",
    "        ### TERMINE EL CÓDIGO AQUÍ ###\n",
    "        \n",
    "        # Calcule el coste.\n",
    "        ### EMPIEZE EL CÓDIGO AQUÍ ###  (≈ 1 línea de código)\n",
    "        cost = \n",
    "        ### TERMINE EL CÓDIGO AQUÍ ###\n",
    "    \n",
    "        # Retro-propagación.\n",
    "        ### EMPIEZE EL CÓDIGO AQUÍ ### (≈ 1 línea de código)\n",
    "        grads = \n",
    "        ### TERMINE EL CÓDIGO AQUÍ ###\n",
    " \n",
    "        # Actualize los parámetros\n",
    "        ### EMPIEZE EL CÓDIGO AQUÍ ###  (≈ 1 línea de código)\n",
    "        parameters = \n",
    "        ### TERMINE EL CÓDIGO AQUÍ ###\n",
    "                \n",
    "        # Imprime el coste cada 100 iteraciones\n",
    "        if print_cost and i % 100 == 0:\n",
    "            print (\"Coste tras la iteración %i: %f\" %(i, cost))\n",
    "        if print_cost and i % 100 == 0:\n",
    "            costs.append(cost)\n",
    "            \n",
    "    # grafique el coste\n",
    "    plt.plot(np.squeeze(costs))\n",
    "    plt.ylabel('Coste')\n",
    "    plt.xlabel('Iteraciones')\n",
    "    plt.title(\"Tasa de aprendizaje =\" + str(learning_rate))\n",
    "    plt.show()\n",
    "    \n",
    "    return parameters"
   ]
  },
  {
   "cell_type": "markdown",
   "metadata": {
    "colab_type": "text",
    "id": "csXFDPlJH7ct"
   },
   "source": [
    "Ahora va a entrenar el modelo como una red neuronal de 4 capas. \n",
    "\n",
    "Ejecute la siguente celda para aprender los parámetros. Asegúrese que su modelo corre bien: el coste debería decrecer. Puede tomar algunos minutos el ejecutar 2500 iteraciones. Revise que el \"Coste tras la iteración 0\" coincida con la salida esperada abajo, si no, haga click en el cuadrado de STOP (⬛) arriba en la barra del cuaderno para detener el proceso e intente encontrar su error."
   ]
  },
  {
   "cell_type": "code",
   "execution_count": null,
   "metadata": {
    "colab": {},
    "colab_type": "code",
    "id": "qTXuPaB6H7cu",
    "scrolled": false
   },
   "outputs": [],
   "source": [
    "parameters = L_layer_model(train_x, train_y, layers_dims, num_iterations = 2500, print_cost = True)"
   ]
  },
  {
   "cell_type": "markdown",
   "metadata": {
    "colab_type": "text",
    "id": "s9-8qsALH7c4"
   },
   "source": [
    "**Salida esperada**\n",
    "<table> \n",
    "    <tr>\n",
    "        <td> **Coste tras la iteración 0**</td>\n",
    "        <td> 0.771749 </td>\n",
    "    </tr>\n",
    "    <tr>\n",
    "        <td> **Coste tras la iteración 100**</td>\n",
    "        <td> 0.672053 </td>\n",
    "    </tr>\n",
    "    <tr>\n",
    "        <td> **...**</td>\n",
    "        <td> ... </td>\n",
    "    </tr>\n",
    "    <tr>\n",
    "        <td> **Coste tras la iteración 2400**</td>\n",
    "        <td> 0.092878 </td>\n",
    "    </tr>\n",
    "</table>"
   ]
  },
  {
   "cell_type": "code",
   "execution_count": null,
   "metadata": {
    "colab": {},
    "colab_type": "code",
    "id": "QwAm1dgIH7c6",
    "scrolled": true
   },
   "outputs": [],
   "source": [
    "pred_train = predict(train_x, train_y, parameters)"
   ]
  },
  {
   "cell_type": "markdown",
   "metadata": {
    "colab_type": "text",
    "id": "XebBjdQaH7dE"
   },
   "source": [
    "**Salida esperada**\n",
    "\n",
    "<table>\n",
    "    <tr>\n",
    "    <td>\n",
    "    **Precisión de entrenamiento**\n",
    "    </td>\n",
    "    <td>\n",
    "    0.985645933014\n",
    "    </td>\n",
    "    </tr>\n",
    "</table>"
   ]
  },
  {
   "cell_type": "code",
   "execution_count": null,
   "metadata": {
    "colab": {},
    "colab_type": "code",
    "id": "VBqqlR4OH7dJ"
   },
   "outputs": [],
   "source": [
    "pred_test = predict(test_x, test_y, parameters)"
   ]
  },
  {
   "cell_type": "markdown",
   "metadata": {
    "colab_type": "text",
    "id": "UvHV-Es2H7dN"
   },
   "source": [
    "**Salida esperada**\n",
    "\n",
    "<table> \n",
    "    <tr>\n",
    "        <td> **Precisión de prueba**</td>\n",
    "        <td> 0.8 </td>\n",
    "    </tr>\n",
    "</table>"
   ]
  },
  {
   "cell_type": "markdown",
   "metadata": {
    "colab_type": "text",
    "id": "6Xi54lAaH7dO"
   },
   "source": [
    "Muy bien! Parece que la red neuronal de 4 capas tiene mejor desempeño (80%) que la red de 2 capas (72%) sobre el mismo conjunto de datos. \n",
    "\n",
    "Este es un buen desempeño! \n",
    "\n",
    "En las próximas clases veremos cómo podemos obtener una precisión aun mayor, buscando de manera sistemática mejores estimaciones para los hiper-parámetros (tasa de parendizaje, tamaño de las capas, número de iteraciones, entre otros). "
   ]
  },
  {
   "cell_type": "markdown",
   "metadata": {
    "colab_type": "text",
    "id": "HAgjBvu4H7dQ"
   },
   "source": [
    "##  6) Análisis de resultados\n",
    "\n",
    "Primero analicemos el error de manera manual. Revisemos algunas de las imagenes que el modelo de L capas etiquetó incorrectamente. Ejecute la celda abajo para visualizar algunos de estos errores. "
   ]
  },
  {
   "cell_type": "code",
   "execution_count": null,
   "metadata": {
    "colab": {},
    "colab_type": "code",
    "id": "PsayC-5GH7dR",
    "scrolled": false
   },
   "outputs": [],
   "source": [
    "print_mislabeled_images(clases, test_x, test_y, pred_test)"
   ]
  },
  {
   "cell_type": "markdown",
   "metadata": {
    "colab_type": "text",
    "id": "NrH_VZjGH7dZ"
   },
   "source": [
    "**Las distintas imagenes sobre las que el modelo tiende a equivocarse incluyen:** \n",
    "- El cuerpo del gato está en una posición inusual\n",
    "- El gato aparece contra el fondo de un color similar\n",
    "- Color y especie de gato inusual \n",
    "- Angulo de la cámara inusual\n",
    "- Imagen muy/poco brillante\n",
    "- Escala de la variación (el gato aparece muy grande o muy pequeño en la imagen) "
   ]
  },
  {
   "cell_type": "markdown",
   "metadata": {
    "colab_type": "text",
    "id": "lNBLihmbH7db"
   },
   "source": [
    "## 7) Prueba con su propia imagen ##\n",
    "\n",
    "Ahora puede utilizar su propia imagen para probar el modelo. Para hacerlo agregue su(s) imagen(es) al directorio de este cuaderno en la carpeta \"images\", cambie el nombre de la (s) imagen(es) en el código siguiente, y compruebe si el algoritmo acierta (1=gato, 0=no-gato). "
   ]
  },
  {
   "cell_type": "code",
   "execution_count": null,
   "metadata": {
    "colab": {},
    "colab_type": "code",
    "id": "Qzyp-RLgH7dd",
    "scrolled": false
   },
   "outputs": [],
   "source": [
    "### EMPIEZE EL CÓDIGO AQUÍ ### \n",
    "mi_imagen =   # el nombre debe coincidir con el de su imagen\n",
    "mi_etiqueta =  # la clase verdadera para su imagen (1 -> gato, 0 -> no-gato)\n",
    "## TERMINE EL CÓDIGO AQUÍ ##\n",
    "\n",
    "fname = \"images/\" + mi_imagen\n",
    "image = np.array(ndimage.imread(fname, flatten=False))\n",
    "mi_imagen = scipy.misc.imresize(image, size=(num_px,num_px)).reshape((num_px*num_px*3,1))\n",
    "mi_imagen = mi_imagen/255.\n",
    "mi_imagen_pred = predict(mi_imagen, mi_etiqueta, parameters)\n",
    "\n",
    "plt.imshow(image)\n",
    "print(\"y = \" + str(int(np.squeeze(mi_imagen_pred))) + \", el modelo predice que es una imagen de un \\\"\" + clases[int(np.squeeze(mi_imagen_pred))]+  \"\\\".\")\n"
   ]
  }
 ],
 "metadata": {
  "colab": {
   "name": "Taller5_RedesNeuronalesProfundas_aplicacion.ipynb",
   "provenance": [],
   "version": "0.3.2"
  },
  "kernelspec": {
   "display_name": "Python 3",
   "language": "python",
   "name": "python3"
  },
  "language_info": {
   "codemirror_mode": {
    "name": "ipython",
    "version": 3
   },
   "file_extension": ".py",
   "mimetype": "text/x-python",
   "name": "python",
   "nbconvert_exporter": "python",
   "pygments_lexer": "ipython3",
   "version": "3.7.0"
  }
 },
 "nbformat": 4,
 "nbformat_minor": 2
}
