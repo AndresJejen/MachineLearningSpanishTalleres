{
 "cells": [
  {
   "cell_type": "markdown",
   "metadata": {
    "colab_type": "text",
    "id": "PtXzXdO51N36"
   },
   "source": [
    "# Regresión logística con una perspectiva de Redes Neuronales\n",
    "\n",
    "En este ejercicio construirá un clasificador de regresión logística. En este cuaderno encontrará la guía para hacerlo desde una perspectiva de redes neuronales, ganando una intuición sobre lo que es el aprendizaje computacional y el deep learning.\n",
    "\n",
    "**Instrucciones:**\n",
    "- No utilize bucles-for/while en su código, a menos que se le pida hacerlo explícitamente.\n",
    "\n",
    "**Tras este taller usted va a ser capaz de:**\n",
    "- Construir la arquitectura general de un algoritmo de aprendizaje, incluyendo:\n",
    "    - Inicialización de parámetros\n",
    "    - Calcular la función de coste y su gradiente\n",
    "    - Utilizar un algoritmo de optimización (descenso en la dirección del gradiente, GD) \n",
    "- Reunir todas las tres funciones en un modelo principal en el orden adecuado.\n",
    "\n",
    "Manos a la obra!!"
   ]
  },
  {
   "cell_type": "markdown",
   "metadata": {
    "colab_type": "text",
    "id": "WlmeO63m1N37"
   },
   "source": [
    "## 1 - Paquetes ##\n",
    "\n",
    "Primero, importamos los paquetes que vamos a necesitar a lo largo de este taller. \n",
    "- [numpy](www.numpy.org) paquete básico para ciencias computacionales con Python.\n",
    "- [h5py](http://www.h5py.org) paquete para interactuar con un conjunto de datos guardado en un archivo de tipo H5.\n",
    "- [matplotlib](http://matplotlib.org) librería para graficar en Python.\n",
    "- [PIL](http://www.pythonware.com/products/pil/) y [scipy](https://www.scipy.org/) usados para probar el modelo con sus propias imagenes al final del taller"
   ]
  },
  {
   "cell_type": "code",
   "execution_count": 1,
   "metadata": {
    "colab": {},
    "colab_type": "code",
    "id": "C3Q1ECN51N39"
   },
   "outputs": [],
   "source": [
    "import numpy as np\n",
    "import matplotlib.pyplot as plt\n",
    "import h5py\n",
    "import scipy\n",
    "from PIL import Image\n",
    "from scipy import ndimage\n",
    "from lr_utils import load_dataset\n",
    "\n",
    "%matplotlib inline"
   ]
  },
  {
   "cell_type": "markdown",
   "metadata": {
    "colab_type": "text",
    "id": "1-L6xnoi1N4C"
   },
   "source": [
    "## 2 - Enunciado del problema ##\n",
    "\n",
    "**Enunciado**: El siguiente conjunto de datos está disponible (\"data.h5\") con la siguiente información:\n",
    "    - un conjunto de entrenamiento m_train con imagenes etiquetadas como gato (y=1) o no-gato (y=0)\n",
    "    - un conjunto de prueba m_test con imagenes etiquetadas como cat/gato o non-cat/no-gato\n",
    "    - cada imagen tiene dimensiones (num_px, num_px, 3) donde 3 es para los canales RGB (nótese que cada imagen es cuadrada (altura = num_px) y (ancho = num_px).\n",
    "\n",
    "Usted debe construir un algoritmo simple de reconocimiento de imagenes que pueda clasificar correctamente las imagenes como gato o no-gato.\n",
    "\n",
    "Primero, examinemos los datos. Cargue el archivo con el siguiente código."
   ]
  },
  {
   "cell_type": "code",
   "execution_count": 2,
   "metadata": {
    "colab": {},
    "colab_type": "code",
    "id": "-eniIfuR1N4E"
   },
   "outputs": [],
   "source": [
    "# Carga de datos (gato/no-gato)\n",
    "train_set_x_orig, train_set_y, test_set_x_orig, test_set_y, classes = load_dataset()\n",
    "clases=[\"no-gato\", \"gato\"]"
   ]
  },
  {
   "cell_type": "markdown",
   "metadata": {
    "colab_type": "text",
    "id": "aLl5ayGl1N4H"
   },
   "source": [
    "Comprobamos las dimensiones de una observación"
   ]
  },
  {
   "cell_type": "code",
   "execution_count": 3,
   "metadata": {
    "colab": {},
    "colab_type": "code",
    "id": "rCwXNTdU1N4H",
    "outputId": "93b942bf-6eeb-44ef-c956-ce87180f1a9c"
   },
   "outputs": [
    {
     "data": {
      "text/plain": [
       "(64, 64, 3)"
      ]
     },
     "execution_count": 3,
     "metadata": {},
     "output_type": "execute_result"
    }
   ],
   "source": [
    "train_set_x_orig[0].shape"
   ]
  },
  {
   "cell_type": "markdown",
   "metadata": {
    "colab_type": "text",
    "id": "VHHeSSEA1N4O"
   },
   "source": [
    "Añadimos \"_orig\" al final de los datos de entrenamiento y prueba porque vamos a pre-procesarlos. Luego de esto, vamos a obtener un train_set_x y un test_set_x (nótese que las etiquetas de train_set_y y test_set_y no necesitan ningún pre-procesamiento).\n",
    "\n",
    "Cada observación (línea) del train_set_x_orig y del test_set_x_orig es un arreglo representando una imagen. Se puede visualizar cada observación mediante el siguiente código. Puede cambiar el valor del `indice` para visualizar imagenes distintas. "
   ]
  },
  {
   "cell_type": "code",
   "execution_count": 4,
   "metadata": {
    "colab": {},
    "colab_type": "code",
    "id": "JvzyeDep1N4P"
   },
   "outputs": [
    {
     "name": "stdout",
     "output_type": "stream",
     "text": [
      "La imagen #0, es un 'no-gato'\n"
     ]
    },
    {
     "data": {
      "image/png": "[encoded data removed]",
      "text/plain": [
       "<Figure size 432x288 with 1 Axes>"
      ]
     },
     "metadata": {
      "needs_background": "light"
     },
     "output_type": "display_data"
    }
   ],
   "source": [
    "# Ejemplo de una imagen\n",
    "indice = 0\n",
    "plt.imshow(train_set_x_orig[indice])\n",
    "print (\"La imagen #\" + str(indice) + \", es un '\" + str(clases[np.squeeze(train_set_y[:, indice])]) + \"'\" )"
   ]
  },
  {
   "cell_type": "markdown",
   "metadata": {
    "colab_type": "text",
    "id": "uYg47rFi1N4T"
   },
   "source": [
    "Muchos fallos/bugs del código en deep learning ocurren por tener dimensiones de la matriz/vector que no encajan. Si puede mantener las dimensiones correctas podrá evitar tener que dedicar tiempo a corregir estos fallos. \n",
    "\n",
    "**Ejercicio:** Encuentre los valores para:\n",
    "    - m_train (número de ejemplos de entrenamiento)\n",
    "    - m_test (número de ejemplos de prueba)\n",
    "    - num_px (= altura = ancho de la imagen)\n",
    "Recuerde que `train_set_x_orig` es un arreglo numpy de dimensiones (m_train, num_px, num_px, 3). De esta manera, puede acceder a `m_train` escribiendo `train_set_x_orig.shape[0]`."
   ]
  },
  {
   "cell_type": "code",
   "execution_count": null,
   "metadata": {
    "colab": {},
    "colab_type": "code",
    "id": "clJpaVYl1N4U",
    "scrolled": true
   },
   "outputs": [],
   "source": [
    "### EMPIEZE EL CÓDIGO AQUÍ ### (≈ 3 líneas de código)\n",
    "m_train = \n",
    "m_test =\n",
    "num_px = \n",
    "### TERMINE EL CÓDIGO AQUÍ ###\n",
    "\n",
    "print (\"Número de ejemplos de entrenamiento: m_train = \" + str(m_train))\n",
    "print (\"Número de ejemplos de prueba: m_test = \" + str(m_test))\n",
    "print (\"Altura/Ancho de cada imagen: num_px = \" + str(num_px))\n",
    "\n",
    "print (\"Cada imagen es de tamaño: (\" + str(num_px) + \", \" + str(num_px) + \", 3)\")\n",
    "print (\"Dimensión del train_set_x: \" + str(train_set_x_orig.shape))\n",
    "print (\"Dimensión del train_set_y: \" + str(train_set_y.shape))\n",
    "print (\"Dimensión del test_set_x: \" + str(test_set_x_orig.shape))\n",
    "print (\"Dimensión del test_set_y: \" + str(test_set_y.shape))"
   ]
  },
  {
   "cell_type": "markdown",
   "metadata": {
    "colab_type": "text",
    "id": "RE9P8s5n1N4X"
   },
   "source": [
    "**Salida esperada para m_train, m_test y num_px**: \n",
    "<table style=\"width:15%\">\n",
    "  <tr>\n",
    "    <td>**m_train**</td>\n",
    "    <td> 209 </td> \n",
    "  </tr>\n",
    "  \n",
    "  <tr>\n",
    "    <td>**m_test**</td>\n",
    "    <td> 50 </td> \n",
    "  </tr>\n",
    "  \n",
    "  <tr>\n",
    "    <td>**num_px**</td>\n",
    "    <td> 64 </td> \n",
    "  </tr>\n",
    "  \n",
    "</table>\n"
   ]
  },
  {
   "cell_type": "markdown",
   "metadata": {
    "colab_type": "text",
    "id": "d1lg-zi01N4Y"
   },
   "source": [
    "Es recomendable ahora re-dimensionar las imagenes de tamaño (num_px, num_px, 3) en un arreglo numpy de dimensión (num_px $*$ num_px $*$ 3, 1). Luego, los conjuntos de entrenamiento y prueba serán un arreglo numpy donde cada columna representa una imagen (aplanada). Deberían haber m_train y m_test columnas.\n",
    "\n",
    "**Ejercicio:** Re-dimensione los conjuntos de datos de entrenamiento y prueba para que las imagenes de tamaño (num_px, num_px, 3) sean aplanadas en vectores de dimensión (num\\_px $*$ num\\_px $*$ 3, 1).\n",
    "\n",
    "Ayuda. Cuando se quiere aplanar una matriz X de dimensión (a,b,c,d) en una matriz X_flatten de dimensión (b$*$c$*$d, a) se puede usar: \n",
    "```python\n",
    "X_flatten = X.reshape(X.shape[0], -1).T      # X.T es la transpuesta de X\n",
    "```"
   ]
  },
  {
   "cell_type": "code",
   "execution_count": null,
   "metadata": {
    "colab": {},
    "colab_type": "code",
    "id": "e4FH1kU91N4Z"
   },
   "outputs": [],
   "source": [
    "# Re-dimensione los ejemplos de entrenamiento y prueba\n",
    "\n",
    "### EMPIEZE EL CÓDIGO AQUÍ ### (≈ 2 líneas de código)\n",
    "train_set_x_flatten = \n",
    "test_set_x_flatten = \n",
    "### TERMINE EL CÓDIGO AQUÍ ###\n",
    "\n",
    "print (\"Dimensión del train_set_x_flatten: \" + str(train_set_x_flatten.shape))\n",
    "print (\"Dimensión del train_set_y: \" + str(train_set_y.shape))\n",
    "print (\"Dimensión del test_set_x_flatten: \" + str(test_set_x_flatten.shape))\n",
    "print (\"Dimensión del test_set_y: \" + str(test_set_y.shape))\n",
    "print (\"Chequeo luego del re-dimensionamiento: \" + str(train_set_x_flatten[0:5,0]))"
   ]
  },
  {
   "cell_type": "markdown",
   "metadata": {
    "colab_type": "text",
    "id": "oZl88Ftp1N4e"
   },
   "source": [
    "**Salida esperada**: \n",
    "\n",
    "<table style=\"width:55%\">\n",
    "  <tr>\n",
    "    <td>**Dimensión train_set_x_flatten**</td>\n",
    "    <td> (12288, 209)</td> \n",
    "  </tr>\n",
    "  <tr>\n",
    "    <td>**Dimensión train_set_y**</td>\n",
    "    <td>(1, 209)</td> \n",
    "  </tr>\n",
    "  <tr>\n",
    "    <td>**Dimensión test_set_x_flatten**</td>\n",
    "    <td>(12288, 50)</td> \n",
    "  </tr>\n",
    "  <tr>\n",
    "    <td>**Dimensión test_set_y**</td>\n",
    "    <td>(1, 50)</td> \n",
    "  </tr>\n",
    "  <tr>\n",
    "  <td>**Chequeo tras el re-dimensionamiento**</td>\n",
    "  <td>[17 31 56 22 33]</td> \n",
    "  </tr>\n",
    "</table>"
   ]
  },
  {
   "cell_type": "markdown",
   "metadata": {
    "colab_type": "text",
    "id": "FLsILF5v1N4f"
   },
   "source": [
    "Las imagenes a color son comúnmente representadas mediante los tres canales rojo, verde y azul (RGB) para cada pixel, de tal manera que a cada pixel le corresponde un vector de tres números en el rango de 0 a 255.\n",
    "\n",
    "Un paso muy común en el pre-procesamiento de datos en machine learning es el de estandarizar el conjunto de datos multivariado, es decir, restando la media de cada vector a cada ejemplo, y dividiendo por la desviación estandar del vector. En este caso del tratamiento de imagenes, es más simple y conveniente tan solo dividir todas las filas del conjunto de datos por 255 (el valor máximo de un canal RGB).\n",
    "\n",
    "<!-- Durante el entrenamiento del modelo, se multiplican pesos y se suman sesgos a algunos inputs iniciales para observar activaciones neuronales. Luego se retro-propaga a partir de los gradientes para entrenar el modelo. Pero es importante que cada patrón del input tenga un rango similar para que los gradientes no exploten. Más adelante se profundizará en esto. !--> \n",
    "\n",
    "Normalizemos los datos."
   ]
  },
  {
   "cell_type": "code",
   "execution_count": null,
   "metadata": {
    "colab": {},
    "colab_type": "code",
    "id": "zZzwIVuG1N4h"
   },
   "outputs": [],
   "source": [
    "train_set_x = train_set_x_flatten/255.\n",
    "test_set_x = test_set_x_flatten/255."
   ]
  },
  {
   "cell_type": "markdown",
   "metadata": {
    "colab_type": "text",
    "id": "z7OU-rnH1N4l"
   },
   "source": [
    "<font color='blue'>\n",
    "**Recapitulemos:**\n",
    "\n",
    "Pasos comunes para el pre-procesamiento de un nuevo conjunto de datos:\n",
    "- Examinar las dimensiones del problema (m_train, m_test, num_px, ...)\n",
    "- Re-dimensionar los conjuntos de datos para que cada ejemplo sea un vector de tamaño (num_px \\* num_px \\* 3, 1)\n",
    "- Normalizar o estandarizar los datos"
   ]
  },
  {
   "cell_type": "markdown",
   "metadata": {
    "colab_type": "text",
    "id": "otzr673_1N4o"
   },
   "source": [
    "## 3 - Arquitectura general de un algoritmo de aprendizaje ##\n",
    "\n",
    "Llegó el momento de diseñar un algoritmo simple para distinguir imagenes de gatos y de aquello que no son gatos.\n",
    "\n",
    "Debe constuir un modelos de regresión logística, desde una perspectiva de Redes Neuronales.\n",
    "\n",
    "**Formulación del algoritmo**:\n",
    "\n",
    "Para un ejemplo $x^{(i)}$:\n",
    "$$z^{(i)} = w^T x^{(i)} + b \\tag{1}$$\n",
    "$$\\hat{y}^{(i)} = a^{(i)} = sigmoide(z^{(i)})\\tag{2}$$ \n",
    "$$ \\mathcal{L}(a^{(i)}, y^{(i)}) =  - y^{(i)}  \\log(a^{(i)}) - (1-y^{(i)} )  \\log(1-a^{(i)})\\tag{3}$$\n",
    "\n",
    "El coste se calcula sumando sobre todos los ejemplos de entrenamiento:\n",
    "$$ J = \\frac{1}{m} \\sum_{i=1}^m \\mathcal{L}(a^{(i)}, y^{(i)})\\tag{6}$$\n",
    "\n",
    "**Paso a paso**:\n",
    "En este ejercicio, se deben dar los siguientes pasos: \n",
    "    - Inicializar los parámetros del modelo\n",
    "    - Aprender los parámetros del modelo a partir de la minimización del coste  \n",
    "    - Utilizar los parámetros aprendidos para hacer predicciones (sobr el conjunto de prueba)\n",
    "    - Analizar los resultados y concluir"
   ]
  },
  {
   "cell_type": "markdown",
   "metadata": {
    "colab_type": "text",
    "id": "pJThnylV1N4p"
   },
   "source": [
    "## 4 - Construyendo las partes del algoritmo ## \n",
    "\n",
    "Los pasos principales para construir una red neuronal son: \n",
    "1. Definir la estructura del modelo (tal como el número de patrones en el input) \n",
    "2. Inicializar los parámetros del modelo\n",
    "3. Bucle:\n",
    "    - Calcular la pérdida actual (propagación hacia delante)\n",
    "    - Calcular el gradiente actual (retro-propagación)\n",
    "    - Actualizar los parámetros (descenso en la dirección del gradiente)\n",
    "\n",
    "Se suele construir 1-3 de manera separada e integrarlos en una función que llamaremos `model()`.\n",
    "\n",
    "### 4.1 - Funciones de ayuda\n",
    "\n",
    "**Ejercicio**: Utilizando su código del Taller_1 \"IntroPython_numpy\", implemente `sigmoid()`. Como se puede ver en la figura arriba, se debe computar $sigmoid( w^T x + b) = \\frac{1}{1 + e^{-(w^T x + b)}}$ para predecir. Para ello puede utilizar np.exp()."
   ]
  },
  {
   "cell_type": "code",
   "execution_count": null,
   "metadata": {
    "colab": {},
    "colab_type": "code",
    "id": "jv9vZTMo1N4q"
   },
   "outputs": [],
   "source": [
    "# FUNCIÓN A CALIFICAR: sigmoid\n",
    "\n",
    "def sigmoid(z):\n",
    "    \"\"\"\n",
    "    Calcule el sigmoide de z\n",
    "    Input:\n",
    "    z: Un escalar o arreglo numpy de cualquier tamaño\n",
    "    Output:\n",
    "    s: sigmoid(z)\n",
    "    \"\"\"\n",
    "\n",
    "    ### EMPIEZE EL CÓDIGO AQUÍ ###  (≈ 1 línea de código)\n",
    "    s = \n",
    "    ### TERMINE EL CÓDIGO AQUÍ ###\n",
    "    \n",
    "    return s"
   ]
  },
  {
   "cell_type": "code",
   "execution_count": null,
   "metadata": {
    "colab": {},
    "colab_type": "code",
    "id": "Yc_QFhz_1N4u",
    "scrolled": true
   },
   "outputs": [],
   "source": [
    "print (\"sigmoide([0, 2]) = \" + str(sigmoid(np.array([0,2]))))"
   ]
  },
  {
   "cell_type": "markdown",
   "metadata": {
    "colab_type": "text",
    "id": "1B8FIszR1N4z"
   },
   "source": [
    "**Salida esperada**: \n",
    "\n",
    "<table>\n",
    "  <tr>\n",
    "    <td>**sigmoid([0, 2])**</td>\n",
    "    <td> [ 0.5         0.88079708]</td> \n",
    "  </tr>\n",
    "</table>"
   ]
  },
  {
   "cell_type": "markdown",
   "metadata": {
    "colab_type": "text",
    "id": "9BwOuoF51N40"
   },
   "source": [
    "### 4.2 - Inicialización de parámteros\n",
    "\n",
    "**Ejercicio:** Implemente la inicialización de parámetros. Se tiene un vector w de ceros. Si no sabe qué función de numpy puede utilizar, puede buscar np.zeros() en la documentación de la biblioteca Numpy."
   ]
  },
  {
   "cell_type": "code",
   "execution_count": null,
   "metadata": {
    "colab": {},
    "colab_type": "code",
    "id": "Q4La8ikN1N41"
   },
   "outputs": [],
   "source": [
    "# FUNCIÓN A CALIFICAR: initialize_with_zeros\n",
    "\n",
    "def initialize_with_zeros(dim):\n",
    "    \"\"\"\n",
    "    Esta función crea un vector de ceros de dimensión (dim, 1) para w e inicializa b a 0.\n",
    "    Input:\n",
    "    dim: tamaño del vector w (número de parámetros para este caso)\n",
    "    Output:\n",
    "    w: vector inicializado de tamaño (dim, 1)\n",
    "    b: escalar inicializado (corresponde con el sesgo)\n",
    "    \"\"\"\n",
    "    \n",
    "    ### EMPIEZE EL CÓDIGO AQUÍ ### (≈ 1 línea de código)\n",
    "    w =    \n",
    "    b = \n",
    "    ### TERMINE EL CÓDIGO AQUÍ ###\n",
    "\n",
    "    assert(w.shape == (dim, 1))\n",
    "    assert(isinstance(b, float) or isinstance(b, int))\n",
    "    \n",
    "    return w, b"
   ]
  },
  {
   "cell_type": "code",
   "execution_count": null,
   "metadata": {
    "colab": {},
    "colab_type": "code",
    "id": "bgvQpn_C1N45"
   },
   "outputs": [],
   "source": [
    "dim = 2\n",
    "w, b = initialize_with_zeros(dim)\n",
    "print (\"w = \" + str(w))\n",
    "print (\"b = \" + str(b))"
   ]
  },
  {
   "cell_type": "markdown",
   "metadata": {
    "colab_type": "text",
    "id": "30Bbhadd1N48"
   },
   "source": [
    "**Salida esperada**: \n",
    "\n",
    "\n",
    "<table style=\"width:25%\">\n",
    "    <tr>\n",
    "        <td>  ** w **  </td>\n",
    "        <td> [[ 0.]\n",
    " [ 0.]] </td>\n",
    "    </tr>\n",
    "    <tr>\n",
    "        <td>  ** b **  </td>\n",
    "        <td> 0 </td>\n",
    "    </tr>\n",
    "</table>\n",
    "\n",
    "Para inputs de imagen, w será de tamaño (num_px $\\times$ num_px $\\times$ 3, 1)."
   ]
  },
  {
   "cell_type": "markdown",
   "metadata": {
    "colab_type": "text",
    "id": "DfMNPGtF1N49"
   },
   "source": [
    "### 4.3 - Propagación hacia delante y hacia atrás\n",
    "\n",
    "Una vez los parámetros están inicializados, se pueden implementar los pasos de propagación hacia \"delante\" y hacia \"atrás\" para el aprendizaje de los parámetros.\n",
    "\n",
    "**Ejercicio:** Implemente la función `propagate()` que calcula la función de coste y su gradiente.\n",
    "\n",
    "**Ayuda**:\n",
    "\n",
    "Propagación hacia delante:\n",
    "- Se tiene X\n",
    "- Se calcula $A = \\sigma(w^T X + b) = (a^{(1)}, a^{(2)}, ..., a^{(m-1)}, a^{(m)})$\n",
    "- Se calcula la función de coste/pérdida: $J = -\\frac{1}{m}\\sum_{i=1}^{m}y^{(i)}\\log(a^{(i)})+(1-y^{(i)})\\log(1-a^{(i)})$\n",
    "\n",
    "Se pueden usar las siguientes fórmulas: \n",
    "\n",
    "$$ \\frac{\\partial J}{\\partial w} = \\frac{1}{m}X(A-Y)^T\\tag{7}$$\n",
    "$$ \\frac{\\partial J}{\\partial b} = \\frac{1}{m} \\sum_{i=1}^m (a^{(i)}-y^{(i)})\\tag{8}$$"
   ]
  },
  {
   "cell_type": "code",
   "execution_count": null,
   "metadata": {
    "colab": {},
    "colab_type": "code",
    "id": "C9GBbvhO1N4_"
   },
   "outputs": [],
   "source": [
    "# FUNCIÓN A CALIFICAR: propagate\n",
    "\n",
    "def propagate(w, b, X, Y):\n",
    "    \"\"\"\n",
    "    Implemente la función de coste y su gradiente para la propagación\n",
    "    Input:\n",
    "    w: pesos, un arreglo numpy de tamaño (num_px * num_px * 3, 1)\n",
    "    b: sesgo, un escalar\n",
    "    X: datos de tamaño (num_px * num_px * 3, número de ejemplos)\n",
    "    Y: vector de etiquetas observadas (0 si es no-gato, 1 si es gato) de tamaño (1, número de ejemplos)\n",
    "    Output:\n",
    "    coste: coste negativo de log-verosimilitud para la regresión logística\n",
    "    dw: gradiente de la pérdida con respecto a w, con las mismas dimensiones que w\n",
    "    db: gradiente de la pérdida con respecto a b, con las mismas dimensiones que b\n",
    "    \n",
    "    (Sugerencia: escriba su código paso a paso para la propagación. np.log(), np.dot()\n",
    "    \"\"\"\n",
    "    \n",
    "    m = X.shape[1]\n",
    "    \n",
    "    # PROPAGACIÓN HACIA DELANTE \n",
    "    ### EMPIEZE EL CÓDIGO AQUÍ ### (≈ 2 líneas de código)\n",
    "    A =                                                      # compute la activación\n",
    "    cost =                                                   # compute el coste\n",
    "    ### TERMINE EL CÓDIGO AQUÍ ###\n",
    "    \n",
    "    # RETRO-PROPAGACIÓN (PROPAGACIÓN HACIA ATRÁS)\n",
    "    ### EMPIEZE EL CÓDIGO AQUÍ ### (≈ 2 líneas de código)\n",
    "    dw = \n",
    "    db = \n",
    "    ### TERMINE EL CÓDIGO AQUÍ ###\n",
    "\n",
    "    assert(dw.shape == w.shape)\n",
    "    assert(db.dtype == float)\n",
    "    cost = np.squeeze(cost)\n",
    "    assert(cost.shape == ())\n",
    "    \n",
    "    grads = {\"dw\": dw,\n",
    "             \"db\": db}\n",
    "    \n",
    "    return grads, cost"
   ]
  },
  {
   "cell_type": "code",
   "execution_count": null,
   "metadata": {
    "colab": {},
    "colab_type": "code",
    "id": "nPjtxhC81N5C"
   },
   "outputs": [],
   "source": [
    "w, b, X, Y = np.array([[1.],[2.]]), 2., np.array([[1.,2.,-1.],[3.,4.,-3.2]]), np.array([[1,0,1]])\n",
    "grads, cost = propagate(w, b, X, Y)\n",
    "print (\"dw = \" + str(grads[\"dw\"]))\n",
    "print (\"db = \" + str(grads[\"db\"]))\n",
    "print (\"coste = \" + str(cost))"
   ]
  },
  {
   "cell_type": "markdown",
   "metadata": {
    "colab_type": "text",
    "id": "E3jlQGzh1N5H"
   },
   "source": [
    "**Salida esperada**: \n",
    "\n",
    "<table style=\"width:50%\">\n",
    "    <tr>\n",
    "        <td>  ** dw **  </td>\n",
    "      <td> [[ 0.99845601]\n",
    "     [ 2.39507239]]</td>\n",
    "    </tr>\n",
    "    <tr>\n",
    "        <td>  ** db **  </td>\n",
    "        <td> 0.00145557813678 </td>\n",
    "    </tr>\n",
    "    <tr>\n",
    "        <td>  ** cost **  </td>\n",
    "        <td> 5.801545319394553 </td>\n",
    "    </tr>\n",
    "\n",
    "</table>"
   ]
  },
  {
   "cell_type": "markdown",
   "metadata": {
    "colab_type": "text",
    "id": "j767c6t81N5H"
   },
   "source": [
    "### 4.4 - Optimización\n",
    "- Se tienen los parámetros inicializados.\n",
    "- También se tiene el código para calcular la función de coste y su gradiente.\n",
    "- Ahora se quieren actualizar los parámetros utilizando el descenso en la dirección del gradiente (GD).\n",
    "\n",
    "**Ejercicio:** Escriba la función de optimización. EL objetivo es el de aprender $w$ y $b$ minimizando la función de coste $J$. Para un parámetro $\\theta$, la regla de actualización es $ \\theta = \\theta - \\alpha \\text{ } d\\theta$, donde $\\alpha$ es la tasa de aprendizaje."
   ]
  },
  {
   "cell_type": "code",
   "execution_count": null,
   "metadata": {
    "colab": {},
    "colab_type": "code",
    "id": "yKzxdXA41N5J"
   },
   "outputs": [],
   "source": [
    "# FUNCIÓN A CALIFICAR: optimize\n",
    "\n",
    "def optimize(w, b, X, Y, num_iterations, learning_rate, print_cost = False):\n",
    "    \"\"\"\n",
    "    Esta función optimiza w y b implementando el algoritmo de GD\n",
    "    Input:\n",
    "    w: pesos, un arreglo numpy de tamaño (num_px * num_px * 3, 1)\n",
    "    b: sesgo, un escalar\n",
    "    X: datos de tamaño (num_px * num_px * 3, número de ejemplos)\n",
    "    Y: vector de etiquetas observadas (0 si es no-gato, 1 si es gato) de tamaño (1, número de ejemplos)\n",
    "    num_iterations: número de iteracionespara el bucle de optimización\n",
    "    learning_rate: tasa de aprendizaje para la regla de actualización del GD\n",
    "    print_cost: True para imprimir la pérdida cada 100 iteraciones\n",
    "    Output:\n",
    "    params: diccionario con los pesos w y el sesgo b\n",
    "    grads: diccionario con los gradientes de los pesos y el sesgo con respecto a la función de pérdida\n",
    "    costs: lista de todos los costes calculados durante la optimización, usados para graficar la curva de aprendizaje.\n",
    "    \n",
    "    Sugerencia: puede escribir dos pasos e iterar sobre ellos:\n",
    "        1) Calcule el coste y el gradiente de los parámetros actuales. Use propagate().\n",
    "        2) Actualize los parámetros usando la regla del GD para w y b.\n",
    "    \"\"\"\n",
    "    \n",
    "    costs = []\n",
    "    \n",
    "    for i in range(num_iterations):\n",
    "        \n",
    "        \n",
    "        # Computación del coste y el gradiente (≈ 1-4 líneas de código)\n",
    "        ### EMPIEZE EL CÓDIGO AQUÍ ### \n",
    "        grads, cost = \n",
    "        ### TERMINE EL CÓDIGO AQUÍ ###\n",
    "        \n",
    "        # Recupere las derivadas de grads\n",
    "        dw = grads[\"dw\"]\n",
    "        db = grads[\"db\"]\n",
    "        \n",
    "        # Actualize la regla (≈ 2 líneas de código)\n",
    "        ### EMPIEZE EL CÓDIGO AQUÍ ###\n",
    "        w = \n",
    "        b = \n",
    "        ### TERMINE EL CÓDIGO AQUÍ ###\n",
    "        \n",
    "        # Guarde los costes\n",
    "        if i % 100 == 0:\n",
    "            costs.append(cost)\n",
    "        \n",
    "        # Se muestra el coste cada 100 iteraciones de entrenamiento\n",
    "        if print_cost and i % 100 == 0:\n",
    "            print (\"Coste tras la iteración %i: %f\" %(i, cost))\n",
    "    \n",
    "    params = {\"w\": w,\n",
    "              \"b\": b}\n",
    "    \n",
    "    grads = {\"dw\": dw,\n",
    "             \"db\": db}\n",
    "    \n",
    "    return params, grads, costs"
   ]
  },
  {
   "cell_type": "code",
   "execution_count": null,
   "metadata": {
    "colab": {},
    "colab_type": "code",
    "id": "1uvXlS9X1N5P"
   },
   "outputs": [],
   "source": [
    "params, grads, costs = optimize(w, b, X, Y, num_iterations= 100, learning_rate = 0.009, print_cost = False)\n",
    "\n",
    "print (\"w = \" + str(params[\"w\"]))\n",
    "print (\"b = \" + str(params[\"b\"]))\n",
    "print (\"dw = \" + str(grads[\"dw\"]))\n",
    "print (\"db = \" + str(grads[\"db\"]))"
   ]
  },
  {
   "cell_type": "markdown",
   "metadata": {
    "colab_type": "text",
    "id": "dJ8k89Wm1N5S"
   },
   "source": [
    "**Salida esperada**:  \n",
    "\n",
    "<table style=\"width:40%\">\n",
    "    <tr>\n",
    "       <td> **w** </td>\n",
    "       <td>[[ 0.19033591]\n",
    " [ 0.12259159]] </td>\n",
    "    </tr>\n",
    "    \n",
    "    <tr>\n",
    "       <td> **b** </td>\n",
    "       <td> 1.92535983008 </td>\n",
    "    </tr>\n",
    "    <tr>\n",
    "       <td> **dw** </td>\n",
    "       <td> [[ 0.67752042]\n",
    " [ 1.41625495]] </td>\n",
    "    </tr>\n",
    "    <tr>\n",
    "       <td> **db** </td>\n",
    "       <td> 0.219194504541 </td>\n",
    "    </tr>\n",
    "\n",
    "</table>"
   ]
  },
  {
   "cell_type": "markdown",
   "metadata": {
    "colab_type": "text",
    "id": "O4CwLUOI1N5U"
   },
   "source": [
    "**Ejercicio:** La función anterior aprende los parámetros w y b, que se pueden usar para predecir las etiquetas para el conjunto de datos X. Ahora implemente la función `predict()`. Hay dos pasos para calcular las predicciones:\n",
    "\n",
    "1. Calcule $\\hat{Y} = A = \\sigma(w^T X + b)$\n",
    "\n",
    "2. Convierta a 0 las entradas de a (si la activación es <= 0.5) o 1 (si la activación es > 0.5), guarde las predicciones en un vector `Y_prediction`. Si lo desea, puede usar un `if`/`else` en un bucle `for`, aunque también hay una manera de vectorizarlo. "
   ]
  },
  {
   "cell_type": "code",
   "execution_count": null,
   "metadata": {
    "colab": {},
    "colab_type": "code",
    "id": "3FwD0mqK1N5U"
   },
   "outputs": [],
   "source": [
    "# FUNCIÓN A CALIFICAR: predict\n",
    "\n",
    "def predict(w, b, X):\n",
    "    '''\n",
    "    Prediga si una etiqueta es 0 o 1 usando los parámetros de regresión logística aprendidos (w, b)\n",
    "    Input:\n",
    "    w: pesos, un arreglo numpy de tamaño (num_px * num_px * 3, 1)\n",
    "    b: sesgo, un escalar\n",
    "    X: datos de tamaño (num_px * num_px * 3, número de ejemplos)\n",
    "    Output:\n",
    "    Y_prediction: vector con todas las predicciones (0/1) para los ejemplos en X\n",
    "    '''\n",
    "    \n",
    "    m = X.shape[1]\n",
    "    Y_prediction = np.zeros((1,m))\n",
    "    w = w.reshape(X.shape[0], 1)\n",
    "    \n",
    "    # Compute el vector \"A\" prediciendo las probabilidades de que la imagen contenga un gato\n",
    "    ### EMPIEZE EL CÓDIGO AQUÍ ### (≈ 1 línea de código)\n",
    "    A = \n",
    "    ### TERMINE EL CÓDIGO AQUÍ ###\n",
    "    \n",
    "    for i in range(A.shape[1]):\n",
    "        \n",
    "        # Convierta las probabilidades A[0,i] a predicciones p[0,i]\n",
    "        ### EMPIEZE EL CÓDIGO AQUÍ ### (≈ 1-4 líneas de código)\n",
    "        Y_prediction[0,i] =\n",
    "        ### TERMINE EL CÓDIGO AQUÍ ###\n",
    "    \n",
    "    assert(Y_prediction.shape == (1, m))\n",
    "    \n",
    "    return Y_prediction"
   ]
  },
  {
   "cell_type": "code",
   "execution_count": null,
   "metadata": {
    "colab": {},
    "colab_type": "code",
    "id": "O-12ecae1N5X"
   },
   "outputs": [],
   "source": [
    "w = np.array([[0.1124579],[0.23106775]])\n",
    "b = -0.3\n",
    "X = np.array([[1.,-1.1,-3.2],[1.2,2.,0.1]])\n",
    "print (\"predicciones = \" + str(predict(w, b, X)))"
   ]
  },
  {
   "cell_type": "markdown",
   "metadata": {
    "colab_type": "text",
    "id": "YKMpRH6C1N5a"
   },
   "source": [
    "**Salida esperada**: \n",
    "\n",
    "<table style=\"width:30%\">\n",
    "    <tr>\n",
    "         <td>\n",
    "             **predicciones**\n",
    "         </td>\n",
    "          <td>\n",
    "            [[ 1.  1.  0.]]\n",
    "         </td>  \n",
    "   </tr>\n",
    "\n",
    "</table>\n"
   ]
  },
  {
   "cell_type": "markdown",
   "metadata": {
    "colab_type": "text",
    "id": "LQJjfPpb1N5a"
   },
   "source": [
    "<font color='blue'>\n",
    "**Recapitulemos:**\n",
    "Se han implementado varias funciones:\n",
    "- Inicialización de (w,b)\n",
    "- Optimización iterativa de la pérdida para aprender los parametros (w,b):\n",
    "    - computando el coste y su gradiente \n",
    "    - actualizando los parametros usando el GD\n",
    "- Se utilizan los parámetros aprendidos (w,b) para predecir las etiquetas para un conjunto dado de ejemplos"
   ]
  },
  {
   "cell_type": "markdown",
   "metadata": {
    "colab_type": "text",
    "id": "w1DcQgoq1N5c"
   },
   "source": [
    "## 5 - Fusione todas las funciones ##\n",
    "\n",
    "Ahora debe construir el modelo global, estructurando todos los bloques que ha programado arriba.\n",
    "\n",
    "**Ejercicio:** Implemente la función madre. Use la siguiente notación:\n",
    "    - Y_prediction_test para las predicciones sobr el conjunto de prueba\n",
    "    - Y_prediction_train para las predicciones sobre el conjunto de entrenamiento\n",
    "    - w, costs, grads para las salidas de optimize()"
   ]
  },
  {
   "cell_type": "code",
   "execution_count": null,
   "metadata": {
    "colab": {},
    "colab_type": "code",
    "id": "Lz5G93JH1N5c"
   },
   "outputs": [],
   "source": [
    "# FUNCIÓN A CALIFICAR: model\n",
    "\n",
    "def model(X_train, Y_train, X_test, Y_test, num_iterations = 2000, learning_rate = 0.5, print_cost = False):\n",
    "    \"\"\"\n",
    "    Construye el modelo de regresión logística llamando las funciones implementadas anteriormente\n",
    "    Input:\n",
    "    X_train: conjunto de entrenamiento con dimensiones (num_px * num_px * 3, m_train)\n",
    "    Y_train: vector con las etiquetas de entrenamiento con dimensiones (1, m_train)\n",
    "    X_test: conjunto de prueba con dimensiones (num_px * num_px * 3, m_test)\n",
    "    Y_test: vector con las etiquetas de prueba con dimensiones (1, m_test)\n",
    "    num_iterations: (hiper-parámetro) número de iteracionespara para optimizar los parámetros\n",
    "    learning_rate: (hiper-parámetro) tasa de aprendizaje para la regla de optimize()\n",
    "    print_cost: True para imprimir la pérdida cada 100 iteraciones\n",
    "    Output:\n",
    "    d: diccionario con la información sobre el modelo.\n",
    "    \"\"\"\n",
    "    \n",
    "    ### EMPIEZE EL CÓDIGO AQUÍ ###\n",
    "    \n",
    "    # Inicialize los parametros con ceros (≈ 1 línea de código)\n",
    "    w, b = \n",
    "\n",
    "    # Descenso en la dirección del gradiente (GD) (≈ 1 línea de código)\n",
    "    parameters, grads, costs = \n",
    "    \n",
    "    # Recupere los parámetros w y b del diccionario \"parameters\"\n",
    "    w = parameters[\"w\"]\n",
    "    b = parameters[\"b\"]\n",
    "    \n",
    "    # Prediga los ejemplos de prueba y entrenamiento (≈ 2 líneas de código)\n",
    "    Y_prediction_test = \n",
    "    Y_prediction_train = \n",
    "\n",
    "    ### TERMINE EL CÓDIGO AQUÍ ###\n",
    "\n",
    "    # Imprima los errores de entrenamiento y prueba\n",
    "    print(\"Precisión de entrenamiento: {} %\".format(100 - np.mean(np.abs(Y_prediction_train - Y_train)) * 100))\n",
    "    print(\"Precisión de prueba: {} %\".format(100 - np.mean(np.abs(Y_prediction_test - Y_test)) * 100))\n",
    "\n",
    "    \n",
    "    d = {\"Costes\": costs,\n",
    "         \"Prediccion_prueba\": Y_prediction_test, \n",
    "         \"Prediccion_entrenamiento\" : Y_prediction_train, \n",
    "         \"w\" : w, \n",
    "         \"b\" : b,\n",
    "         \"Tasa de aprendizaje\" : learning_rate,\n",
    "         \"Num_iteraciones\": num_iterations}\n",
    "    \n",
    "    return d"
   ]
  },
  {
   "cell_type": "markdown",
   "metadata": {
    "colab_type": "text",
    "id": "EUsfa3ua1N5f"
   },
   "source": [
    "Run the following cell to train your model."
   ]
  },
  {
   "cell_type": "code",
   "execution_count": null,
   "metadata": {
    "colab": {},
    "colab_type": "code",
    "id": "5CIeIsE51N5j"
   },
   "outputs": [],
   "source": [
    "d = model(train_set_x, train_set_y, test_set_x, test_set_y, num_iterations = 2000, learning_rate = 0.005, print_cost = True)"
   ]
  },
  {
   "cell_type": "markdown",
   "metadata": {
    "colab_type": "text",
    "id": "qt_8BYr81N5n"
   },
   "source": [
    "**Salida esperada**: \n",
    "\n",
    "<table style=\"width:50%\"> \n",
    "\n",
    "    <tr>\n",
    "        <td> **Coste tras la iteración 0 **  </td> \n",
    "        <td> 0.693147 </td>\n",
    "    </tr>\n",
    "      <tr>\n",
    "        <td> <center> $\\vdots$ </center> </td> \n",
    "        <td> <center> $\\vdots$ </center> </td> \n",
    "    </tr>  \n",
    "    <tr>\n",
    "        <td> **Precisión de entrenamiento**  </td> \n",
    "        <td> 99.04306220095694 % </td>\n",
    "    </tr>\n",
    "\n",
    "    <tr>\n",
    "        <td>**Precisión de prueba** </td> \n",
    "        <td> 70.0 % </td>\n",
    "    </tr>\n",
    "</table> \n",
    "\n",
    "\n"
   ]
  },
  {
   "cell_type": "markdown",
   "metadata": {
    "colab_type": "text",
    "id": "cueFINup1N5o"
   },
   "source": [
    "**Nota**: La precisión de entrenamiento es cercana al 100%. Esto es una buena señal de que el modelo está aprendiendo, ya que muestra capacidad suficiente para ajustarse a los datos de entrenamiento. Por el otro lado, el error de prueba es del 70%. Este resultado no está mal tomando en cuenta que es un modelo bastante simple, dado el conjunto de datos que se ha usado, el cual es relativamente pequeño, y que el modelo de regresión logística es un calsificador lineal. La próxima semana veremos un clasificador más complejo, y que permitirá obtener mejores resultados. \n",
    "\n",
    "Nótese también que el modelo se está sobre-ajustando a los datos de entrenamiento. Más adelante veremos cómo se peude reducir este sobre-ajuste (\"overfitting\"), por ejemplo mediante regularización. A continuación puede examinar las predicciones de las imagenes de prueba."
   ]
  },
  {
   "cell_type": "code",
   "execution_count": null,
   "metadata": {
    "colab": {},
    "colab_type": "code",
    "id": "3JQ37FQX1N5p"
   },
   "outputs": [],
   "source": [
    "# Ejemplo de una imagen mal clasificada.\n",
    "index = 6\n",
    "plt.imshow(test_set_x[:,index].reshape((num_px, num_px, 3)))\n",
    "clase=clases[int(d[\"Prediccion_prueba\"][0,index])]\n",
    "print (\"Para y = \" + str(test_set_y[0,index]) + \", el modelo dice que es una imagen de un \\\"\" + clase +  \"\\\".\")"
   ]
  },
  {
   "cell_type": "markdown",
   "metadata": {
    "colab_type": "text",
    "id": "rFVdaS-m1N5s"
   },
   "source": [
    "Grafiquemos la función de pérdida y los gradientes."
   ]
  },
  {
   "cell_type": "code",
   "execution_count": null,
   "metadata": {
    "colab": {},
    "colab_type": "code",
    "id": "EzhH7XZk1N5t"
   },
   "outputs": [],
   "source": [
    "# Gráfica de la curva de aprendizaje (con costes)\n",
    "costes = np.squeeze(d['Costes'])\n",
    "plt.plot(costes)\n",
    "plt.ylabel('coste')\n",
    "plt.xlabel('iteraciones (en cientos)')\n",
    "plt.title(\"Tasa de aprendizaje =\" + str(d[\"Tasa de aprendizaje\"]))\n",
    "plt.show()"
   ]
  },
  {
   "cell_type": "markdown",
   "metadata": {
    "colab_type": "text",
    "id": "vfZW7K0R1N5v"
   },
   "source": [
    "**Interpretación**:\n",
    "Se puede ver el coste decreciendo, demostrando que los parámetros están siendo aprendidos. Sin embargo, el modelo se podría entrenar aun más sobre el conjunto de entrenamiento. Intente aumentar el número de iteraciones arriba y vuelva a ejecutar el código. Podrá ver precisión del conjunto de entrnamiento aumenta, pero la del conjunto de prueba decrece. Este es evidencia del sobre-ajuste."
   ]
  },
  {
   "cell_type": "markdown",
   "metadata": {
    "colab_type": "text",
    "id": "oUmPK7ny1N5w"
   },
   "source": [
    "## 6 - Profundizando en el análisis ##\n",
    "\n",
    "Ya tienes un primer modelo de clasificación de imagenes. Analizémoslo un poco más, como por ejemplo examinando distintos valores para la tasa de aprendizaje $\\alpha$. "
   ]
  },
  {
   "cell_type": "markdown",
   "metadata": {
    "colab_type": "text",
    "id": "pYIe-KzJ1N5x"
   },
   "source": [
    "#### Selección de la tasa de aprendizaje ####\n",
    "\n",
    "**Nota**:\n",
    "Para que el método del GD funcione de manera adecuada, se debe elegir la tasa de aprendiazaje de manera acertada. Esta tasa $\\alpha$  determina qué tan rápido se actualizan los parámetros. Si la tasa es muy grande se puede \"sobrepasar\" el valor óptimo. Y de manera similar, si es muy pequeña se van a necesitar muchas iteraciones para converger a los mejores valores. Por ello la importancia de tener una tase de aprensizaje bien afinada.  \n",
    "\n",
    "Ahora, comparemos la curva de aprendizaje de nuestro modelo con distintas elecciones para $\\alpha$. Ejecute el código abajo. También puede intentar con valores distintos a los tres que estamos utilizando abajo para `learning_rates` y analize los resultados. "
   ]
  },
  {
   "cell_type": "code",
   "execution_count": null,
   "metadata": {
    "colab": {},
    "colab_type": "code",
    "id": "GytbgP431N5y"
   },
   "outputs": [],
   "source": [
    "learning_rates = [0.01, 0.001, 0.0001]\n",
    "models = {}\n",
    "for i in learning_rates:\n",
    "    print (\"La tasa de aprendizaje es: \" + str(i))\n",
    "    models[str(i)] = model(train_set_x, train_set_y, test_set_x, test_set_y, num_iterations = 1500, learning_rate = i, print_cost = False)\n",
    "    print ('\\n' + \"-------------------------------------------------------\" + '\\n')\n",
    "\n",
    "for i in learning_rates:\n",
    "    plt.plot(np.squeeze(models[str(i)][\"Costes\"]), label= str(models[str(i)][\"Tasa de aprendizaje\"]))\n",
    "\n",
    "plt.ylabel('coste')\n",
    "plt.xlabel('iteraciones (en cientos)')\n",
    "\n",
    "legend = plt.legend(loc='upper center', shadow=True)\n",
    "frame = legend.get_frame()\n",
    "frame.set_facecolor('0.90')\n",
    "plt.show()"
   ]
  },
  {
   "cell_type": "markdown",
   "metadata": {
    "colab_type": "text",
    "id": "PAwnvlYI1N52"
   },
   "source": [
    "**Discusión**: \n",
    "- Tasas diferentes obtienen costes diferentes y por lo tanto, predicciones diferentes.\n",
    "- Si la tasa es muy grande (0.01), el coste puede oscilar arriba y abajo. Hasta puede diverger, aunque en este ejemplo $\\alpha=0.01$ aun consigue un buen valor para el coste.  \n",
    "- Un coste más bajo no implica un mejor modelo. Se debe chequear si hay una posibilidad de sobre-ajuste. Esto ocurre cuando la precisión de entrenamiento es mucho mayor que la precisión de prueba.\n",
    "- En deep learning, es recomendable que se elija la tasa de aprendizaje que minimize la función de coste. Y si el modelo sobre-ajusta, se pueden probar otras técnicas (que veremos más adelante) para reducir dicho sobre-ajuste. \n"
   ]
  },
  {
   "cell_type": "markdown",
   "metadata": {
    "colab_type": "text",
    "id": "OgS8EChN1N53"
   },
   "source": [
    "## 7 - Pruebe con otras imagenes ##\n",
    "\n",
    "Puede utilizar imagenes propias para ver los resultados de su modelo. Para ello, agregue su(s) imagen(es) al directorio de este cuaderno en la carpeta \"images\", cambie el nombre de la(s) imagen(es) en el siguiente código, y compruebe si el algoritmo acierta (1=gato, 0=no-gato). "
   ]
  },
  {
   "cell_type": "code",
   "execution_count": null,
   "metadata": {
    "colab": {},
    "colab_type": "code",
    "id": "wM5hsixV1N53",
    "scrolled": false
   },
   "outputs": [],
   "source": [
    "### EMPIEZE EL CÓDIGO AQUÍ ### (INTRODUZCA EL NOMBRE DE SU IMAGEN) \n",
    "my_image = \" \"   # el nombre debe coincidir con el de su imagen\n",
    "### TERMINE EL CÓDIGO AQUÍ ###\n",
    "\n",
    "# Pre-procesamos la imagen\n",
    "fname = \"images/\" + my_image\n",
    "image = np.array(ndimage.imread(fname, flatten=False))\n",
    "my_image = scipy.misc.imresize(image, size=(num_px,num_px)).reshape((1, num_px*num_px*3)).T\n",
    "my_predicted_image = predict(d[\"w\"], d[\"b\"], my_image)\n",
    "\n",
    "plt.imshow(image)\n",
    "print(\"y = \" + str(int(np.squeeze(my_predicted_image))) + \", el algoritmo predice que es una imagen de un \\\"\" + clases[int(np.squeeze(my_predicted_image))]+  \"\\\".\")"
   ]
  },
  {
   "cell_type": "markdown",
   "metadata": {
    "colab_type": "text",
    "id": "RxBieazi1N57"
   },
   "source": [
    "Ahora puede intentar desarrollar su propio código modificado y compara los resultados. Intente mejorar los resultados obtenidos. Puede jugar con la tasa de aprendizaje, el número de iteraciones o distintos métodos de inicialización. También puede probar otras técnicas de pre-procesamiento, como el de estandarizar los datos, etc. \n",
    "\n",
    "<font color='blue'>\n",
    "**Comentarios finales:**\n",
    "1. Recuerde la importancia del pre-procesamiento de los datos.\n",
    "2. Hemos implementado cada función de manera separada: initialize(), propagate(), optimize(). Y luego se construye el modelo: model().\n",
    "3. La selección adecuada de la tasa de aprendizaje, al cual nos referimos como un \"hiper-parámetro\", puede hacer una gran diferencia en el algoritmo. Seguiremos viendo más ejemplos de esto en actividades futuras."
   ]
  },
  {
   "cell_type": "markdown",
   "metadata": {
    "colab_type": "text",
    "id": "4Cg4OIQt1N58"
   },
   "source": [
    "Algunas referencias:\n",
    "- http://www.wildml.com/2015/09/implementing-a-neural-network-from-scratch/\n",
    "- https://stats.stackexchange.com/questions/211436/why-do-we-normalize-images-by-subtracting-the-datasets-image-mean-and-not-the-c"
   ]
  }
 ],
 "metadata": {
  "colab": {
   "name": "Taller2_RegresionLogistica Vacio.ipynb",
   "provenance": [],
   "version": "0.3.2"
  },
  "kernelspec": {
   "display_name": "Python 3",
   "language": "python",
   "name": "python3"
  },
  "language_info": {
   "codemirror_mode": {
    "name": "ipython",
    "version": 3
   },
   "file_extension": ".py",
   "mimetype": "text/x-python",
   "name": "python",
   "nbconvert_exporter": "python",
   "pygments_lexer": "ipython3",
   "version": "3.7.0"
  }
 },
 "nbformat": 4,
 "nbformat_minor": 2
}
