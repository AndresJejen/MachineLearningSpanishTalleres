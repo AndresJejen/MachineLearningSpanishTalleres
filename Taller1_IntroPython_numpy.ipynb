{
 "cells": [
  {
   "cell_type": "markdown",
   "metadata": {
    "colab_type": "text",
    "id": "geHfzpOuQ2YX"
   },
   "source": [
    "# Taller 1. Introducción a Python con Numpy \n",
    "\n",
    "Bienvenido al primer taller. Contiene ejercicios para una breve introducción a Python. Si ya ha utilizado Python antes, este taller le ayudará  a familiarizarse con las funciones que necesitamos.  \n",
    "\n",
    "**Instrucciones:**\n",
    "- Se utilizará Python 3.\n",
    "- Evite utilizar bucles-for y bucles-while, a menos que explícitamente se le pida hacerlo.\n",
    "- No modifique el comentario (# FUNCIÓN A CALIFICAR [nombre de la funcion]) de algunas celdas. Es neceario para su calificación. Cada celda que contenga ese comentario debe contener solo una función.  \n",
    "- Tras codificar su función, verifique que el resultado es correcto. \n",
    "\n",
    "**Tras este taller usted va a ser capaz de:**\n",
    "- Usar Cuadernos iPython \n",
    "- Utilizar funciones numpy y operaciones numpy sobre matrices/vectores\n",
    "- Entender el concepto de \"broadcasting\"\n",
    "- Vectorizar el código\n",
    "\n",
    "Manos a la obra!!"
   ]
  },
  {
   "cell_type": "markdown",
   "metadata": {
    "colab_type": "text",
    "id": "QV7sq_dtQ2YZ"
   },
   "source": [
    "## Sobre los Cuadernos iPython ##\n",
    "\n",
    "Los Cuadernos iPython son ambientes de programación de código interactivos montados en una página web. En esta clase utilizaremos cuadernos iPython. Sólo necesita escribir código entre los comentarios de ### EMPIEZE EL CÓDIGO AQUÍ ### y ### TERMINE EL CÓDIGO AQUÍ ###. Tras escribir el código, puede ejecutar la celda presionando \"SHIFT\"+\"ENTER\" o haciendo click en \"Run\" (símbolo de \"play\") en la barra superior del cuaderno.  \n",
    "\n",
    "Se especificará en los comentarios aproximadamente cuantas lineas de codigo necesita escribir \"(≈ X lineas de codigo)\". Es solo una guía, no pasa nada si escribe menos o más lineas siempre que el codigo ahga lo que debe hacer.\n",
    "\n",
    "**Ejercicio**: Defina test como `\"Hola Mundo\"` en la celda de abajo para imprimir \"Hello World\" y ejecute las dos celdas abajo. "
   ]
  },
  {
   "cell_type": "code",
   "execution_count": null,
   "metadata": {
    "colab": {},
    "colab_type": "code",
    "id": "vZlZxWy_Q2Yb"
   },
   "outputs": [],
   "source": [
    "### EMPIEZE EL CÓDIGO AQUÍ ### (≈ 1 linea de código)\n",
    "test = \n",
    "### TERMINE EL CÓDIGO AQUÍ ###"
   ]
  },
  {
   "cell_type": "code",
   "execution_count": null,
   "metadata": {
    "colab": {},
    "colab_type": "code",
    "id": "NTG6BCXGQ2Yi"
   },
   "outputs": [],
   "source": [
    "print (\"test: \" + test)"
   ]
  },
  {
   "cell_type": "markdown",
   "metadata": {
    "colab_type": "text",
    "id": "TMFqSRSBQ2Yo"
   },
   "source": [
    "**Salida esperada**:\n",
    "test: Hola Mundo"
   ]
  },
  {
   "cell_type": "markdown",
   "metadata": {
    "colab_type": "text",
    "id": "PYGJCIKKQ2Yq"
   },
   "source": [
    "## 1 - Construyendo funciones básicas con numpy ##\n",
    "\n",
    "Numpy es el paquete principal para la ciencia computacional en Python (www.numpy.org). En este ejercicio aprenderá algunas funciones numpy claves tal como np.exp, np.log, y np.reshape. Va a necesitar saber cómo utilizar estas funciones para talleres futuros.\n",
    "\n",
    "### 1.1 - Función sigmoide, np.exp() ###\n",
    "\n",
    "Antes de utilizar np.exp(), utilizaremos math.exp() para implementar la función sigmoide. Entonce spodrá ver porqué np.exp() es preferible a math.exp().\n",
    "\n",
    "**Ejercicio**: Construya una función que devuelva el sigmoide de un número real x. Utilize math.exp(x) para la función exponencial.\n",
    "\n",
    "**Ayuda**:\n",
    "$sigmoid(x) = \\frac{1}{1+e^{-x}}$ se le conoce como la función logística. Es una función no-lineal utilizada tanto en Machine Learning (Regresión Logistica), como en Deep Learning.\n",
    "\n",
    "Para referirse a una función de cierto paquete, la puede llamar utilizando package_name.function(). Ejecute el código abajo para trabajar con math.exp()."
   ]
  },
  {
   "cell_type": "code",
   "execution_count": null,
   "metadata": {
    "colab": {},
    "colab_type": "code",
    "id": "pf_cufGRQ2Ys"
   },
   "outputs": [],
   "source": [
    "# FUNCIÓN A CALIFICAR basic_sigmoid\n",
    "\n",
    "import math\n",
    "\n",
    "def basic_sigmoid(x):\n",
    "    \"\"\"\n",
    "    Calcula el sigmoide de x\n",
    "    Input:\n",
    "    x: scalar\n",
    "    Output:\n",
    "    s: sigmoid(x)\n",
    "    \"\"\"\n",
    "    \n",
    "    ### EMPIEZE EL CÓDIGO AQUÍ ### (≈ 1 linea de código)\n",
    "    s =\n",
    "    ### TERMINE EL CÓDIGO AQUÍ ###\n",
    "    \n",
    "    return s"
   ]
  },
  {
   "cell_type": "code",
   "execution_count": null,
   "metadata": {
    "colab": {},
    "colab_type": "code",
    "id": "r4mLiZgrQ2Yx"
   },
   "outputs": [],
   "source": [
    "basic_sigmoid(3)"
   ]
  },
  {
   "cell_type": "markdown",
   "metadata": {
    "colab_type": "text",
    "id": "nmi1KyolQ2Y3"
   },
   "source": [
    "**Salida esperada**: \n",
    "<table style = \"width:40%\">\n",
    "    <tr>\n",
    "    <td>** basic_sigmoid(3) **</td> \n",
    "        <td>0.9525741268224334 </td> \n",
    "    </tr>\n",
    "\n",
    "</table>"
   ]
  },
  {
   "cell_type": "markdown",
   "metadata": {
    "colab_type": "text",
    "id": "wp3RGTcbQ2Y4"
   },
   "source": [
    "En verdad la \"math\" library suele utilizarse poco en deep learning porque los inputs de las funciones son números reales. En deep learning su utilizan más que todo matrices y vectores. Por esto es que numpy es más útil. "
   ]
  },
  {
   "cell_type": "code",
   "execution_count": null,
   "metadata": {
    "colab": {},
    "colab_type": "code",
    "id": "GWUS90n1Q2Y5"
   },
   "outputs": [],
   "source": [
    "### Una razón para utilizar \"numpy\" en lugar de \"math\" en Deep Learning ###\n",
    "x = [1, 2, 3]\n",
    "basic_sigmoid(x) # esto da error, porque x es un vector"
   ]
  },
  {
   "cell_type": "markdown",
   "metadata": {
    "colab_type": "text",
    "id": "aTeGUvWpQ2Y9"
   },
   "source": [
    "De hecho, $ x = (x_1, x_2, ..., x_n)$ es un vector fila, donde $np.exp(x)$ aplica la función exponencial a cada elemento de x. La salida será: $np.exp(x) = (e^{x_1}, e^{x_2}, ..., e^{x_n})$"
   ]
  },
  {
   "cell_type": "code",
   "execution_count": null,
   "metadata": {
    "colab": {},
    "colab_type": "code",
    "id": "QQaH_NSmQ2Y-"
   },
   "outputs": [],
   "source": [
    "import numpy as np\n",
    "\n",
    "# ejemplo de np.exp\n",
    "x = np.array([1, 2, 3])\n",
    "print(np.exp(x)) "
   ]
  },
  {
   "cell_type": "markdown",
   "metadata": {
    "colab_type": "text",
    "id": "E2MhZmpBQ2ZI"
   },
   "source": [
    "Si x es un vector, entonces la operación de Python $s = x + 3$ o $s = \\frac{1}{x}$ obtiene como resultado s como un vector del mismo tamaño que x."
   ]
  },
  {
   "cell_type": "code",
   "execution_count": null,
   "metadata": {
    "colab": {},
    "colab_type": "code",
    "id": "GTMUJIL5Q2ZK"
   },
   "outputs": [],
   "source": [
    "# ejemplo de una operación vectorial\n",
    "x = np.array([1, 2, 3])\n",
    "print (x + 3)"
   ]
  },
  {
   "cell_type": "markdown",
   "metadata": {
    "colab_type": "text",
    "id": "qmjlHTHPQ2ZX"
   },
   "source": [
    "Más información sobre la función numpy [documentación oficial](https://docs.scipy.org/doc/numpy-1.10.1/reference/generated/numpy.exp.html). \n",
    "\n",
    "También puede escribir en una nueva celda `np.exp?` y acceder a la documentación.\n",
    "\n",
    "**Ejercicio**: Implemente la funcion sigmoide utilizando numpy. \n",
    "\n",
    "**Instrucciones**: x puede ser o un número real, un vector, o una matriz. A las estructuras de datos que se utilizan en numpy para representar estas formas (vectores, matrices,...) se les denominan arreglos numpy.\n",
    "\n",
    "$$ \\text{Para } x \\in \\mathbb{R}^n \\text{,     } sigmoide(x) = sigmoide\\begin{pmatrix}\n",
    "    x_1  \\\\\n",
    "    x_2  \\\\\n",
    "    ...  \\\\\n",
    "    x_n  \\\\\n",
    "\\end{pmatrix} = \\begin{pmatrix}\n",
    "    \\frac{1}{1+e^{-x_1}}  \\\\\n",
    "    \\frac{1}{1+e^{-x_2}}  \\\\\n",
    "    ...  \\\\\n",
    "    \\frac{1}{1+e^{-x_n}}  \\\\\n",
    "\\end{pmatrix}\\tag{1} $$"
   ]
  },
  {
   "cell_type": "code",
   "execution_count": null,
   "metadata": {
    "colab": {},
    "colab_type": "code",
    "id": "AKvqrO5OQ2Za"
   },
   "outputs": [],
   "source": [
    "# FUNCIÓN A CALIFICAR: sigmoid\n",
    "\n",
    "import numpy as np # esto permite acceder funciones numpy simplemente escribiendo np.function() en lugar de numpy.function()\n",
    "\n",
    "def sigmoid(x):\n",
    "    \"\"\"\n",
    "    Calcule el sigmoide de x\n",
    "    Input:\n",
    "    x: un escalar o arreglo numpy de cualquier tamaño\n",
    "    Output:\n",
    "    s: sigmoid(x)\n",
    "    \"\"\"\n",
    "    \n",
    "    ### EMPIEZE EL CÓDIGO AQUÍ ### (≈ 1 linea de código)\n",
    "    s = \n",
    "    ### TERMINE EL CÓDIGO AQUÍ ###\n",
    "    \n",
    "    return s"
   ]
  },
  {
   "cell_type": "code",
   "execution_count": null,
   "metadata": {
    "colab": {},
    "colab_type": "code",
    "id": "OI4S3djbQ2Zf"
   },
   "outputs": [],
   "source": [
    "x = np.array([1, 2, 3])\n",
    "sigmoid(x)"
   ]
  },
  {
   "cell_type": "markdown",
   "metadata": {
    "colab_type": "text",
    "id": "JttOfATRQ2Zi"
   },
   "source": [
    "**Salida esperada**: \n",
    "<table>\n",
    "    <tr> \n",
    "        <td> **sigmoid([1,2,3])**</td> \n",
    "        <td> array([ 0.73105858,  0.88079708,  0.95257413]) </td> \n",
    "    </tr>\n",
    "</table> \n"
   ]
  },
  {
   "cell_type": "markdown",
   "metadata": {
    "colab_type": "text",
    "id": "r7eZS32QQ2Zj"
   },
   "source": [
    "### 1.2 - Gradiente del sigmoide\n",
    "\n",
    "Como hemos visto, se debe calcular gradientes para optimizar las funciones de coste usando retro-propagación. A continuación se computa la función del gradiente. \n",
    "\n",
    "**Ejercicio**: Implemente la función sigmoid_grad() para computar el gradiente de la función sigmoide con respecto a su input x. La fórmula es: $$sigmoid\\_derivative(x) = \\sigma'(x) = \\sigma(x) (1 - \\sigma(x))\\tag{2}$$\n",
    "Esta función se puede programar en dos pasos:\n",
    "1. Defina s como el sigmoide de x. Puede utilizar la funcion sigmoid(x) ya programada.\n",
    "2. Compute $\\sigma'(x) = s(1-s)$"
   ]
  },
  {
   "cell_type": "code",
   "execution_count": null,
   "metadata": {
    "colab": {},
    "colab_type": "code",
    "id": "709UY5v_Q2Zk"
   },
   "outputs": [],
   "source": [
    "# FUNCIÓN A CALIFICAR: sigmoid_derivative\n",
    "\n",
    "def sigmoid_derivative(x):\n",
    "    \"\"\"\n",
    "    Calcule el gradiente (o derivada) de la función sigmoide con respecto al input x.\n",
    "    Puede guardar el output del sigmoide como variables y luego usarlo para calcular el gradiente.\n",
    "    Input:\n",
    "    x: un escalar o arrgelo numpy \n",
    "    Output:\n",
    "    ds: el gradiente calculado.\n",
    "    \"\"\"\n",
    "    \n",
    "    ### EMPIEZE EL CÓDIGO AQUÍ ### (≈ 2 lineas de codigo)\n",
    "    s = \n",
    "    ds = \n",
    "    ### TERMINE EL CÓDIGO AQUÍ ###\n",
    "    \n",
    "    return ds"
   ]
  },
  {
   "cell_type": "code",
   "execution_count": null,
   "metadata": {
    "colab": {},
    "colab_type": "code",
    "id": "DPyEGNgTQ2Zn"
   },
   "outputs": [],
   "source": [
    "x = np.array([1, 2, 3])\n",
    "print (\"sigmoid_derivative(x) = \" + str(sigmoid_derivative(x)))"
   ]
  },
  {
   "cell_type": "markdown",
   "metadata": {
    "colab_type": "text",
    "id": "tSqU-6x9Q2Zt"
   },
   "source": [
    "**Salida esperada**:\n",
    "\n",
    "\n",
    "<table>\n",
    "    <tr> \n",
    "        <td> **sigmoid_derivative([1,2,3])**</td> \n",
    "        <td> [ 0.19661193  0.10499359  0.04517666] </td> \n",
    "    </tr>\n",
    "</table> \n",
    "\n"
   ]
  },
  {
   "cell_type": "markdown",
   "metadata": {
    "colab_type": "text",
    "id": "lwRbXyKSQ2Zu"
   },
   "source": [
    "### 1.3 - Reformando arreglos ###\n",
    "\n",
    "Dos funciones numpy comunes usadas en deep learning son [np.shape](https://docs.scipy.org/doc/numpy/reference/generated/numpy.ndarray.shape.html) y [np.reshape()](https://docs.scipy.org/doc/numpy/reference/generated/numpy.reshape.html). \n",
    "- X.shape es usado para obtener la forma (dimension) de una matriz/vector X. \n",
    "- X.reshape(...) es usado para reformar X en alguna otra dimensión. \n",
    "\n",
    "Por ejemplo, en ciencia computacional, un aimagen es representada por un arreglo en 3D con forma $(longitud, altura, profundidad= 3)$. Sin embargo, cuando se lee una imagen como el input de un algoritmo, se convierte en un vector con forma $(longitud*altura*3, 1)$. En otras palabras, se desenrolla o reforma el arreglo 3D en un vector 1D.\n",
    "\n",
    "**Ejercicio**: Implemente la función `image2vector()` que toma un input de forma (longitud, altura, 3) y devuelve un vector de form (longitud\\*altura\\*3, 1). Por ejemplo, si quisiera deformar un arreglo v con forma (a, b, c) en un vector con forma (a*b,c), se escribiría:\n",
    "``` python\n",
    "v = v.reshape((v.shape[0]*v.shape[1], v.shape[2])) # v.shape[0] = a ; v.shape[1] = b ; v.shape[2] = c\n",
    "```\n",
    "- Nótese que cada imagen tiene sus propias dimensiones, las cuales se pueden averiguar mediante  `image.shape[0]`, etc. "
   ]
  },
  {
   "cell_type": "code",
   "execution_count": null,
   "metadata": {
    "colab": {},
    "colab_type": "code",
    "id": "EvWpyN3BQ2Zv"
   },
   "outputs": [],
   "source": [
    "# FUNCIÓN A CALIFICAR: image2vector\n",
    "\n",
    "def image2vector(image):\n",
    "    \"\"\"\n",
    "    Input:\n",
    "    image: un arreglo numpy con forma (longitud, altura, profundidad)\n",
    "    Output:\n",
    "    v: un vector con forma (longitud*altura*profundidad, 1)\n",
    "    \"\"\"\n",
    "    \n",
    "    ### EMPIEZE EL CÓDIGO AQUÍ ### (≈ 1 linea de código)\n",
    "    v = \n",
    "    ### TERMINE EL CÓDIGO AQUÍ ###\n",
    "    \n",
    "    return v"
   ]
  },
  {
   "cell_type": "code",
   "execution_count": null,
   "metadata": {
    "colab": {},
    "colab_type": "code",
    "id": "rvqYzudkQ2Zy"
   },
   "outputs": [],
   "source": [
    "# Este es un arreglo de 3 por 3 por 2, usualmente las imagenes son de (num_px_x, num_px_y,3) donde 3 representa los valores RGB\n",
    "image = np.array([[[ 0.67826139,  0.29380381],\n",
    "        [ 0.90714982,  0.52835647],\n",
    "        [ 0.4215251 ,  0.45017551]],\n",
    "\n",
    "       [[ 0.92814219,  0.96677647],\n",
    "        [ 0.85304703,  0.52351845],\n",
    "        [ 0.19981397,  0.27417313]],\n",
    "\n",
    "       [[ 0.60659855,  0.00533165],\n",
    "        [ 0.10820313,  0.49978937],\n",
    "        [ 0.34144279,  0.94630077]]])\n",
    "\n",
    "print (\"image2vector(image) = \" + str(image2vector(image)))"
   ]
  },
  {
   "cell_type": "markdown",
   "metadata": {
    "colab_type": "text",
    "id": "nEdltVGzQ2Z2"
   },
   "source": [
    "**Salida esperada**: \n",
    "\n",
    "\n",
    "<table style=\"width:100%\">\n",
    "     <tr> \n",
    "       <td> **image2vector(image)** </td> \n",
    "       <td> [[ 0.67826139]\n",
    " [ 0.29380381]\n",
    " [ 0.90714982]\n",
    " [ 0.52835647]\n",
    " [ 0.4215251 ]\n",
    " [ 0.45017551]\n",
    " [ 0.92814219]\n",
    " [ 0.96677647]\n",
    " [ 0.85304703]\n",
    " [ 0.52351845]\n",
    " [ 0.19981397]\n",
    " [ 0.27417313]\n",
    " [ 0.60659855]\n",
    " [ 0.00533165]\n",
    " [ 0.10820313]\n",
    " [ 0.49978937]\n",
    " [ 0.34144279]\n",
    " [ 0.94630077]]</td> \n",
    "     </tr>\n",
    "    \n",
    "   \n",
    "</table>"
   ]
  },
  {
   "cell_type": "markdown",
   "metadata": {
    "colab_type": "text",
    "id": "UFiA-zOBQ2Z5"
   },
   "source": [
    "### 1.4 - Normalización de filas\n",
    "\n",
    "Otra técnica muy utilizada en Machine Learning y Deep Learning es normalizar los datos. Usualmente lleva a una mejor desempeño porque el descenso en la dirección del gradiente converge más rápidamente tras la normalización. Por normalización nos referimos aquí a transformar x de acuerdo con la expresión $ \\frac{x}{\\| x\\|} $ (dividiendo cada vector file de x por su norma).\n",
    "\n",
    "Por ejemplo, si $$x = \n",
    "\\begin{bmatrix}\n",
    "    0 & 3 & 4 \\\\\n",
    "    2 & 6 & 4 \\\\\n",
    "\\end{bmatrix}\\tag{3}$$ entonces $$\\| x\\| = np.linalg.norm(x, axis = 1, keepdims = True) = \\begin{bmatrix}\n",
    "    5 \\\\\n",
    "    \\sqrt{56} \\\\\n",
    "\\end{bmatrix}\\tag{4} $$ y        $$ x\\_normalizado = \\frac{x}{\\| x\\|} = \\begin{bmatrix}\n",
    "    0 & \\frac{3}{5} & \\frac{4}{5} \\\\\n",
    "    \\frac{2}{\\sqrt{56}} & \\frac{6}{\\sqrt{56}} & \\frac{4}{\\sqrt{56}} \\\\\n",
    "\\end{bmatrix}\\tag{5}$$ Nótese que se pueden dividir matrices de distinto tamaño y funciona sin problema: esto es llamado \"broadcasting\" y lo veremos más adelante.\n",
    "\n",
    "\n",
    "**Ejercicio**: Implemente normalizeRows() para normalizar las filas de una matriz. Luego de aplicar esta función sobre una matriz x, cada fila de x debe ser una vector de longitud unitaria (longitud=1). "
   ]
  },
  {
   "cell_type": "code",
   "execution_count": null,
   "metadata": {
    "colab": {},
    "colab_type": "code",
    "id": "YH3UnNOIQ2Z6"
   },
   "outputs": [],
   "source": [
    "# FUNCIÓN A CALIFICAR: normalizeRows\n",
    "\n",
    "def normalizeRows(x):\n",
    "    \"\"\"\n",
    "    Implemente una función que normalize cada fila de la matriz x (para que tenga longitud unitaria).\n",
    "    Input:\n",
    "    x: Un arreglo numpy con forma (n, m)\n",
    "    Output:\n",
    "    x: La matriz numpy normalizada por filas. \n",
    "    \"\"\"\n",
    "    \n",
    "    ### EMPIEZE EL CÓDIGO AQUÍ ### (≈ 2 lineas de código)\n",
    "    # Compute x_norm como la norma 2 de x. Use np.linalg.norm(..., ord = 2, axis = ..., keepdims = True)\n",
    "    x_norm = \n",
    "    \n",
    "    # Divida a x por su norma.\n",
    "    x = \n",
    "    ### TERMINE EL CÓDIGO AQUÍ ###\n",
    "\n",
    "    return x"
   ]
  },
  {
   "cell_type": "code",
   "execution_count": null,
   "metadata": {
    "colab": {},
    "colab_type": "code",
    "id": "l1D1WrsCQ2Z_"
   },
   "outputs": [],
   "source": [
    "x = np.array([\n",
    "    [0, 3, 4],\n",
    "    [1, 6, 4]])\n",
    "print(\"normalizeRows(x) = \" + str(normalizeRows(x)))"
   ]
  },
  {
   "cell_type": "markdown",
   "metadata": {
    "colab_type": "text",
    "id": "trov03TMQ2aC"
   },
   "source": [
    "**Salida esperada**:\n",
    "\n",
    "<table style=\"width:60%\">\n",
    "\n",
    "     <tr> \n",
    "       <td> **normalizeRows(x)** </td> \n",
    "       <td> [[ 0.          0.6         0.8       ]\n",
    " [ 0.13736056  0.82416338  0.54944226]]</td> \n",
    "     </tr>\n",
    "    \n",
    "   \n",
    "</table>"
   ]
  },
  {
   "cell_type": "markdown",
   "metadata": {
    "colab_type": "text",
    "id": "OGA_XZNZQ2aD"
   },
   "source": [
    "**Nota**:\n",
    "Al calcular x_norm, se obtiene la norma de cada fila de x. Luego, x_norm tiene el mismo número de filas que normalizeRows(x) pero sólo una columna. Al dividir x por x_norm, se está aplicando el \"broadcasting\", que veremos a continuación.  "
   ]
  },
  {
   "cell_type": "markdown",
   "metadata": {
    "colab_type": "text",
    "id": "ozFBYXqsQ2aE"
   },
   "source": [
    "### 1.5 - Broadcasting y la función softmax ####\n",
    "Un concepto muy importante para entender numpy es el de \"broadcasting\". Es muy útil para implementar operaciones matemáticas entre areglos de distintos tamaños. Para mayores detalles se puede ver la documentación oficial [broadcasting](http://docs.scipy.org/doc/numpy/user/basics.broadcasting.html)."
   ]
  },
  {
   "cell_type": "markdown",
   "metadata": {
    "colab_type": "text",
    "id": "SMFz9JNGQ2aF"
   },
   "source": [
    "**Ejercicio**: Implemente la función softmax utilizando numpy. Puede entender el softmax como una función de normalización utilizada cuando su algoritmo necesita clasificar dos o más clases. Aprenderá más sobre softmax en ejercicios posteriores.\n",
    "\n",
    "**Instrucciones**:\n",
    "- $ \\text{Para } x \\in \\mathbb{R}^{1\\times n} \\text{,     } softmax(x) = softmax(\\begin{bmatrix}\n",
    "    x_1  &&\n",
    "    x_2 &&\n",
    "    ...  &&\n",
    "    x_n  \n",
    "\\end{bmatrix}) = \\begin{bmatrix}\n",
    "     \\frac{e^{x_1}}{\\sum_{j}e^{x_j}}  &&\n",
    "    \\frac{e^{x_2}}{\\sum_{j}e^{x_j}}  &&\n",
    "    ...  &&\n",
    "    \\frac{e^{x_n}}{\\sum_{j}e^{x_j}} \n",
    "\\end{bmatrix} $ \n",
    "\n",
    "\n",
    "\n",
    "- $\\text{Para una matriz } x \\in \\mathbb{R}^{m \\times n} \\text{,  $x_{ij}$ mapea el elemento en la $i-{ésima}$ fila y la  $j-{ésima}$ columna de $x$, por lo que se obtiene: }$  \n",
    "\n",
    "\n",
    "$$softmax(x) = softmax\\begin{bmatrix}\n",
    "    x_{11} & x_{12} & x_{13} & \\dots  & x_{1n} \\\\\n",
    "    x_{21} & x_{22} & x_{23} & \\dots  & x_{2n} \\\\\n",
    "    \\vdots & \\vdots & \\vdots & \\ddots & \\vdots \\\\\n",
    "    x_{m1} & x_{m2} & x_{m3} & \\dots  & x_{mn}\n",
    "\\end{bmatrix} = \\begin{bmatrix}\n",
    "    \\frac{e^{x_{11}}}{\\sum_{j}e^{x_{1j}}} & \\frac{e^{x_{12}}}{\\sum_{j}e^{x_{1j}}} & \\frac{e^{x_{13}}}{\\sum_{j}e^{x_{1j}}} & \\dots  & \\frac{e^{x_{1n}}}{\\sum_{j}e^{x_{1j}}} \\\\\n",
    "    \\frac{e^{x_{21}}}{\\sum_{j}e^{x_{2j}}} & \\frac{e^{x_{22}}}{\\sum_{j}e^{x_{2j}}} & \\frac{e^{x_{23}}}{\\sum_{j}e^{x_{2j}}} & \\dots  & \\frac{e^{x_{2n}}}{\\sum_{j}e^{x_{2j}}} \\\\\n",
    "    \\vdots & \\vdots & \\vdots & \\ddots & \\vdots \\\\\n",
    "    \\frac{e^{x_{m1}}}{\\sum_{j}e^{x_{mj}}} & \\frac{e^{x_{m2}}}{\\sum_{j}e^{x_{mj}}} & \\frac{e^{x_{m3}}}{\\sum_{j}e^{x_{mj}}} & \\dots  & \\frac{e^{x_{mn}}}{\\sum_{j}e^{x_{mj}}}\n",
    "\\end{bmatrix} = \\begin{pmatrix}\n",
    "    softmax\\text{(primera fila de x)}  \\\\\n",
    "    softmax\\text{(segunda fila de x)} \\\\\n",
    "    ...  \\\\\n",
    "    softmax\\text{(última fila de x)} \\\\\n",
    "\\end{pmatrix} $$"
   ]
  },
  {
   "cell_type": "code",
   "execution_count": null,
   "metadata": {
    "colab": {},
    "colab_type": "code",
    "id": "Xdz5BGC0Q2aF"
   },
   "outputs": [],
   "source": [
    "# FUNCIÓN A CALIFICAR: softmax\n",
    "\n",
    "def softmax(x):\n",
    "    \"\"\"\n",
    "    Calcule el softmax para cada fila del input x.\n",
    "    El código debe funcionar tanto para un vector fila como para matrices de tamaño (n, m).\n",
    "    Input:\n",
    "    x: un arreglo numpy con forma (n,m)\n",
    "    Output:\n",
    "    s: Una matriz numpy igual al softmax de x, de tamaño (n,m)\n",
    "    \"\"\"\n",
    "    \n",
    "    ### EMPIEZE EL CÓDIGO AQUÍ ### (≈ 3 lineas de código)\n",
    "    # Utilize exp() sobre cada elemento de x. Use np.exp(...).\n",
    "    x_exp = \n",
    "\n",
    "    # Defina el vector x_sum que sume cada fila de x_exp. Use np.sum(..., axis = 1, keepdims = True).\n",
    "    x_sum = \n",
    "    \n",
    "    # Compute softmax(x) dividiendo x_exp por x_sum. Debería usar automáticamente numpy broadcasting.\n",
    "    s = \n",
    "\n",
    "    ### TERMINE EL CÓDIGO AQUÍ ###\n",
    "    \n",
    "    return s"
   ]
  },
  {
   "cell_type": "code",
   "execution_count": null,
   "metadata": {
    "colab": {},
    "colab_type": "code",
    "id": "e6m5rN7IQ2aK"
   },
   "outputs": [],
   "source": [
    "x = np.array([\n",
    "    [9, 2, 5, 0, 0],\n",
    "    [7, 5, 0, 0 ,0]])\n",
    "print(\"softmax(x) = \" + str(softmax(x)))"
   ]
  },
  {
   "cell_type": "markdown",
   "metadata": {
    "colab_type": "text",
    "id": "llCrGOcGQ2aM"
   },
   "source": [
    "**Salida esperada**:\n",
    "\n",
    "<table style=\"width:60%\">\n",
    "\n",
    "     <tr> \n",
    "       <td> **softmax(x)** </td> \n",
    "       <td> [[  9.80897665e-01   8.94462891e-04   1.79657674e-02   1.21052389e-04\n",
    "    1.21052389e-04]\n",
    " [  8.78679856e-01   1.18916387e-01   8.01252314e-04   8.01252314e-04\n",
    "    8.01252314e-04]]</td> \n",
    "     </tr>\n",
    "</table>\n"
   ]
  },
  {
   "cell_type": "markdown",
   "metadata": {
    "colab_type": "text",
    "id": "f4cOnz-5Q2aN"
   },
   "source": [
    "**Nota**:\n",
    "- Si examina la forma de x_exp, de x_sum y de s, notará que x_sum es de tamaño (2,1) mientras que x_exp y s son de forma (2,5). **x_exp/x_sum** funciona gracias a python broadcasting.\n",
    "\n",
    "Ahora tiene un conocimiento básico de python numpy y ha implementado algunas funciones útiles que se utilizan en deep learning."
   ]
  },
  {
   "cell_type": "markdown",
   "metadata": {
    "colab_type": "text",
    "id": "M4dal9hcQ2aQ"
   },
   "source": [
    "## 2) Vectorización"
   ]
  },
  {
   "cell_type": "markdown",
   "metadata": {
    "colab_type": "text",
    "id": "wVN8QIWrQ2aS"
   },
   "source": [
    "\n",
    "En deep learning, se trabaja con grandes volumenes de datos. Por lo tanto, una función computacionalmente ineficiente puede convertirse en un gran cuello de botella de su algoritmo y el modelo puede tardar demasiado en correr. Para asegurarse que su código es computacionalmente eficiente, usaremos la vectorización. Por ejemplo, determine la diferencia entre las siguientes implementaciones del producto interno, externo entre matrices y la multiplicación por elementos."
   ]
  },
  {
   "cell_type": "code",
   "execution_count": null,
   "metadata": {
    "colab": {},
    "colab_type": "code",
    "id": "erqH7RugQ2aX",
    "outputId": "be9ae93b-9f12-4d6f-a87c-3c04b6b019da"
   },
   "outputs": [
    {
     "name": "stdout",
     "output_type": "stream",
     "text": [
      "interno = 278\n",
      " ----- Tiempo computacional = 0.0ms\n",
      "externo = [[81. 18. 18. 81.  0. 81. 18. 45.  0.  0. 81. 18. 45.  0.  0.]\n",
      " [18.  4.  4. 18.  0. 18.  4. 10.  0.  0. 18.  4. 10.  0.  0.]\n",
      " [45. 10. 10. 45.  0. 45. 10. 25.  0.  0. 45. 10. 25.  0.  0.]\n",
      " [ 0.  0.  0.  0.  0.  0.  0.  0.  0.  0.  0.  0.  0.  0.  0.]\n",
      " [ 0.  0.  0.  0.  0.  0.  0.  0.  0.  0.  0.  0.  0.  0.  0.]\n",
      " [63. 14. 14. 63.  0. 63. 14. 35.  0.  0. 63. 14. 35.  0.  0.]\n",
      " [45. 10. 10. 45.  0. 45. 10. 25.  0.  0. 45. 10. 25.  0.  0.]\n",
      " [ 0.  0.  0.  0.  0.  0.  0.  0.  0.  0.  0.  0.  0.  0.  0.]\n",
      " [ 0.  0.  0.  0.  0.  0.  0.  0.  0.  0.  0.  0.  0.  0.  0.]\n",
      " [ 0.  0.  0.  0.  0.  0.  0.  0.  0.  0.  0.  0.  0.  0.  0.]\n",
      " [81. 18. 18. 81.  0. 81. 18. 45.  0.  0. 81. 18. 45.  0.  0.]\n",
      " [18.  4.  4. 18.  0. 18.  4. 10.  0.  0. 18.  4. 10.  0.  0.]\n",
      " [45. 10. 10. 45.  0. 45. 10. 25.  0.  0. 45. 10. 25.  0.  0.]\n",
      " [ 0.  0.  0.  0.  0.  0.  0.  0.  0.  0.  0.  0.  0.  0.  0.]\n",
      " [ 0.  0.  0.  0.  0.  0.  0.  0.  0.  0.  0.  0.  0.  0.  0.]]\n",
      " ----- Tiempo computacional = 0.0ms\n",
      "multiplicación por elementos = [81.  4. 10.  0.  0. 63. 10.  0.  0.  0. 81.  4. 25.  0.  0.]\n",
      " ----- Tiempo computacional = 0.0ms\n",
      "g_interno = [25.63776483 28.43932718 30.12329609]\n",
      " ----- Tiempo computacional = 0.0ms\n"
     ]
    }
   ],
   "source": [
    "import time\n",
    "\n",
    "x1 = [9, 2, 5, 0, 0, 7, 5, 0, 0, 0, 9, 2, 5, 0, 0]\n",
    "x2 = [9, 2, 2, 9, 0, 9, 2, 5, 0, 0, 9, 2, 5, 0, 0]\n",
    "\n",
    "### IMPLEMENTACION CLASICA DEL PRODUCTO PUNTO ENTRE DOS VECTORES ###\n",
    "tic = time.process_time()\n",
    "dot = 0\n",
    "for i in range(len(x1)):\n",
    "    dot+= x1[i]*x2[i]\n",
    "toc = time.process_time()\n",
    "print (\"interno = \" + str(dot) + \"\\n ----- Tiempo computacional = \" + str(1000*(toc - tic)) + \"ms\")\n",
    "\n",
    "### IMPLEMENTACION CLÁSICA DEL PRODUCTO EXTERIOR ###\n",
    "tic = time.process_time()\n",
    "outer = np.zeros((len(x1),len(x2))) # matriz de ceros de tamaño len(x1)*len(x2)\n",
    "for i in range(len(x1)):\n",
    "    for j in range(len(x2)):\n",
    "        outer[i,j] = x1[i]*x2[j]\n",
    "toc = time.process_time()\n",
    "print (\"externo = \" + str(outer) + \"\\n ----- Tiempo computacional = \" + str(1000*(toc - tic)) + \"ms\")\n",
    "\n",
    "### IMPLEMENTACION CLÁSICA POR ELEMENTOS ###\n",
    "tic = time.process_time()\n",
    "mul = np.zeros(len(x1))\n",
    "for i in range(len(x1)):\n",
    "    mul[i] = x1[i]*x2[i]\n",
    "toc = time.process_time()\n",
    "print (\"multiplicación por elementos = \" + str(mul) + \"\\n ----- Tiempo computacional = \" + str(1000*(toc - tic)) + \"ms\")\n",
    "\n",
    "### IMPLEMENTACION CLASICA GENERAL DEL PRODUCTO PUNTO ###\n",
    "W = np.random.rand(3,len(x1)) # Arreglo numpy aleatorio de tamaño 3*len(x1) \n",
    "tic = time.process_time()\n",
    "gdot = np.zeros(W.shape[0])\n",
    "for i in range(W.shape[0]):\n",
    "    for j in range(len(x1)):\n",
    "        gdot[i] += W[i,j]*x1[j]\n",
    "toc = time.process_time()\n",
    "print (\"g_interno = \" + str(gdot) + \"\\n ----- Tiempo computacional = \" + str(1000*(toc - tic)) + \"ms\")"
   ]
  },
  {
   "cell_type": "code",
   "execution_count": null,
   "metadata": {
    "colab": {},
    "colab_type": "code",
    "id": "7jjEbOY0Q2ab",
    "outputId": "69b60309-5c7e-4db0-e6d5-f6aaf3f3f971"
   },
   "outputs": [
    {
     "name": "stdout",
     "output_type": "stream",
     "text": [
      "interno = 278\n",
      " ----- Tiempo computacional =  0.0ms\n",
      "externo = [[81 18 18 81  0 81 18 45  0  0 81 18 45  0  0]\n",
      " [18  4  4 18  0 18  4 10  0  0 18  4 10  0  0]\n",
      " [45 10 10 45  0 45 10 25  0  0 45 10 25  0  0]\n",
      " [ 0  0  0  0  0  0  0  0  0  0  0  0  0  0  0]\n",
      " [ 0  0  0  0  0  0  0  0  0  0  0  0  0  0  0]\n",
      " [63 14 14 63  0 63 14 35  0  0 63 14 35  0  0]\n",
      " [45 10 10 45  0 45 10 25  0  0 45 10 25  0  0]\n",
      " [ 0  0  0  0  0  0  0  0  0  0  0  0  0  0  0]\n",
      " [ 0  0  0  0  0  0  0  0  0  0  0  0  0  0  0]\n",
      " [ 0  0  0  0  0  0  0  0  0  0  0  0  0  0  0]\n",
      " [81 18 18 81  0 81 18 45  0  0 81 18 45  0  0]\n",
      " [18  4  4 18  0 18  4 10  0  0 18  4 10  0  0]\n",
      " [45 10 10 45  0 45 10 25  0  0 45 10 25  0  0]\n",
      " [ 0  0  0  0  0  0  0  0  0  0  0  0  0  0  0]\n",
      " [ 0  0  0  0  0  0  0  0  0  0  0  0  0  0  0]]\n",
      " ----- Tiempo computacional =  0.0ms\n",
      "multiplicación por elementos = [81  4 10  0  0 63 10  0  0  0 81  4 25  0  0]\n",
      " ----- Tiempo computacional =  0.0ms\n",
      "g_interno = [25.63776483 28.43932718 30.12329609]\n",
      " ----- Tiempo computacional =  0.0ms\n"
     ]
    }
   ],
   "source": [
    "x1 = [9, 2, 5, 0, 0, 7, 5, 0, 0, 0, 9, 2, 5, 0, 0]\n",
    "x2 = [9, 2, 2, 9, 0, 9, 2, 5, 0, 0, 9, 2, 5, 0, 0]\n",
    "\n",
    "### PRODUCTO INTERNO VECTORIZADO ###\n",
    "tic = time.process_time()\n",
    "dot = np.dot(x1,x2)\n",
    "toc = time.process_time()\n",
    "print (\"interno = \" + str(dot) + \"\\n ----- Tiempo computacional =  \" + str(1000*(toc - tic)) + \"ms\")\n",
    "\n",
    "### PRODUCTO EXTERNO VECTORIZADO ###\n",
    "tic = time.process_time()\n",
    "outer = np.outer(x1,x2)\n",
    "toc = time.process_time()\n",
    "print (\"externo = \" + str(outer) + \"\\n ----- Tiempo computacional =  \" + str(1000*(toc - tic)) + \"ms\")\n",
    "\n",
    "### MULTIPLICACION POR ELEMENTOS VECTORIZADA ###\n",
    "tic = time.process_time()\n",
    "mul = np.multiply(x1,x2)\n",
    "toc = time.process_time()\n",
    "print (\"multiplicación por elementos = \" + str(mul) + \"\\n ----- Tiempo computacional =  \" + str(1000*(toc - tic)) + \"ms\")\n",
    "\n",
    "### PRODUCTO INTERNO GENERAL VECTORIZADO ###\n",
    "tic = time.process_time()\n",
    "dot = np.dot(W,x1)\n",
    "toc = time.process_time()\n",
    "print (\"g_interno = \" + str(dot) + \"\\n ----- Tiempo computacional =  \" + str(1000*(toc - tic)) + \"ms\")"
   ]
  },
  {
   "cell_type": "markdown",
   "metadata": {
    "colab_type": "text",
    "id": "5Cgt8kU0Q2af"
   },
   "source": [
    "Como se puede ver, la implementación vectorizada es más limpia y eficiente. Para vectores/matrices más grandes, las diferencias en tiempo computacional serán mayores. \n",
    "\n",
    "**Nota:** \n",
    "`np.dot()` desarrolla una multiplicación de matriz-matriz o matriz-vector. Esto es distinto a `np.multiply()` y el operador `*`, que aplica una multiplicación por elementos."
   ]
  },
  {
   "cell_type": "markdown",
   "metadata": {
    "colab_type": "text",
    "id": "cmMKkBm1Q2ag"
   },
   "source": [
    "### 2.1 Implementación de funciones de coste L1 y L2\n",
    "\n",
    "**Ejercicio**: Implemente la versión numpy vectorizada de pérdida L1. Puede utilizar la función abs(x) (valor absoluto de x).\n",
    "\n",
    "**Ayuda**:\n",
    "- La pérdida o función de coste es utilizada para evaluar el desempeño del modelo. Entre más grande la pérdida, mayor será la diferencia entre las predicciones ($ \\hat{y} $) y los valores observados ($y$). En deep learning, se utilizan algoritmos de optimización como Descenso en la dirección del gradiente (G.D.) para entrenar el modelo y minimizar la pérdida.\n",
    "- La pérdida L1 se define como:\n",
    "$$\\begin{align*} & L_1(\\hat{y}, y) = \\sum_{i=0}^m|y^{(i)} - \\hat{y}^{(i)}| \\end{align*}\\tag{6}$$"
   ]
  },
  {
   "cell_type": "code",
   "execution_count": null,
   "metadata": {
    "colab": {},
    "colab_type": "code",
    "id": "-GLJ8yTFQ2ah"
   },
   "outputs": [],
   "source": [
    "# FUNCIÓN A CALIFICAR: L1\n",
    "\n",
    "def L1(yhat, y):\n",
    "    \"\"\"\n",
    "    Input:\n",
    "    yhat: vector de tamaño m (etiquetas estimadas)\n",
    "    y: vector de tamaño m (etiquetas observadas)\n",
    "    Output:\n",
    "    loss: el valor de la pérdida L1 definida arriba\n",
    "    \"\"\"\n",
    "    \n",
    "    ### EMPIEZE EL CÓDIGO AQUÍ ### (≈ 1 linea de código)\n",
    "    loss = \n",
    "    ### TERMINE EL CÓDIGO AQUÍ ###\n",
    "    \n",
    "    return loss"
   ]
  },
  {
   "cell_type": "code",
   "execution_count": null,
   "metadata": {
    "colab": {},
    "colab_type": "code",
    "id": "FPC-pKBzQ2aj"
   },
   "outputs": [],
   "source": [
    "yhat = np.array([.9, 0.2, 0.1, .4, .9])\n",
    "y = np.array([1, 0, 0, 1, 1])\n",
    "print(\"L1 = \" + str(L1(yhat,y)))"
   ]
  },
  {
   "cell_type": "markdown",
   "metadata": {
    "colab_type": "text",
    "id": "xtH_HC6KQ2am"
   },
   "source": [
    "**Salida esperada**:\n",
    "\n",
    "<table style=\"width:20%\">\n",
    "\n",
    "     <tr> \n",
    "       <td> **L1** </td> \n",
    "       <td> 1.1 </td> \n",
    "     </tr>\n",
    "</table>\n"
   ]
  },
  {
   "cell_type": "markdown",
   "metadata": {
    "colab_type": "text",
    "id": "PcBsyIMgQ2am"
   },
   "source": [
    "**Ejercicio**: Implemente la versión numpy vectorizada de pérdida L2. Hay varias maneras de implementarla, pero puede encontrar útil la función np.dot(). Como ayuda, si $x = [x_1, x_2, ..., x_n]$, entoncesn `np.dot(x,x)` = $\\sum_{j=0}^n x_j^{2}$. \n",
    "\n",
    "- La pérdida L2 se define como $$\\begin{align*} & L_2(\\hat{y},y) = \\sum_{i=0}^m(y^{(i)} - \\hat{y}^{(i)})^2 \\end{align*}\\tag{7}$$"
   ]
  },
  {
   "cell_type": "code",
   "execution_count": null,
   "metadata": {
    "colab": {},
    "colab_type": "code",
    "id": "IR-SnqiOQ2an"
   },
   "outputs": [],
   "source": [
    "# FUNCIÓN A CALIFICAR: L2\n",
    "\n",
    "def L2(yhat, y):\n",
    "    \"\"\"\n",
    "    Input:\n",
    "    yhat: vector de tamaño m (etiquetas estimadas)\n",
    "    y: vector de tamaño m (etiquetas observadas)\n",
    "    Output:\n",
    "    loss: el valor de la pérdida L2 definida arriba\n",
    "    \"\"\"\n",
    "    \n",
    "    ### EMPIEZE EL CÓDIGO AQUÍ ### (≈ 1 linea de código)\n",
    "    loss = \n",
    "    ### TERMINE EL CÓDIGO AQUÍ ###\n",
    "    \n",
    "    return loss"
   ]
  },
  {
   "cell_type": "code",
   "execution_count": null,
   "metadata": {
    "colab": {},
    "colab_type": "code",
    "id": "xYV0ZO8cQ2aq"
   },
   "outputs": [],
   "source": [
    "yhat = np.array([.9, 0.2, 0.1, .4, .9])\n",
    "y = np.array([1, 0, 0, 1, 1])\n",
    "print(\"L2 = \" + str(L2(yhat,y)))"
   ]
  },
  {
   "cell_type": "markdown",
   "metadata": {
    "colab_type": "text",
    "id": "btJQerW3Q2at"
   },
   "source": [
    "**Salida esperada**:\n",
    "<table style=\"width:20%\">\n",
    "     <tr> \n",
    "       <td> **L2** </td> \n",
    "       <td> 0.43 </td> \n",
    "     </tr>\n",
    "</table>"
   ]
  }
 ],
 "metadata": {
  "colab": {
   "name": "Taller1_IntroPython_numpy.ipynb",
   "provenance": [],
   "version": "0.3.2"
  },
  "kernelspec": {
   "display_name": "Python 3",
   "language": "python",
   "name": "python3"
  },
  "language_info": {
   "codemirror_mode": {
    "name": "ipython",
    "version": 3
   },
   "file_extension": ".py",
   "mimetype": "text/x-python",
   "name": "python",
   "nbconvert_exporter": "python",
   "pygments_lexer": "ipython3",
   "version": "3.7.0"
  }
 },
 "nbformat": 4,
 "nbformat_minor": 2
}
